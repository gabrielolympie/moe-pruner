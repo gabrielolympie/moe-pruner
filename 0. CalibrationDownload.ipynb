{
 "cells": [
  {
   "cell_type": "code",
   "execution_count": null,
   "id": "579f4eea-6d31-4648-a035-3afe0b4ac01b",
   "metadata": {},
   "outputs": [],
   "source": [
    "from datasets import load_dataset"
   ]
  },
  {
   "cell_type": "code",
   "execution_count": null,
   "id": "249920cd-240f-4811-824b-29cebff1ae03",
   "metadata": {},
   "outputs": [],
   "source": [
    "dolphin_r1 = load_dataset(\n",
    "    'cognitivecomputations/dolphin-r1',\n",
    "    \"nonreasoning\",\n",
    "    cache_dir=\"../dolphin-r1\"\n",
    ")"
   ]
  },
  {
   "cell_type": "code",
   "execution_count": null,
   "id": "a3ac2103-9431-4f5b-9065-75fa714f3737",
   "metadata": {},
   "outputs": [],
   "source": [
    "dolphin_r1 = load_dataset(\n",
    "    'cognitivecomputations/dolphin-r1',\n",
    "    \"reasoning-deepseek\",\n",
    "    cache_dir=\"../dolphin-r1\"\n",
    ")"
   ]
  },
  {
   "cell_type": "code",
   "execution_count": null,
   "id": "1ece43b4-9b7f-4c5e-a74a-69f152ada0b0",
   "metadata": {},
   "outputs": [],
   "source": [
    "dolphin_r1 = load_dataset(\n",
    "    'cognitivecomputations/dolphin-r1',\n",
    "    \"reasoning-flash\",\n",
    "    cache_dir=\"../dolphin-r1\"\n",
    ")"
   ]
  },
  {
   "cell_type": "code",
   "execution_count": null,
   "id": "4c6a2e05-0ff2-4240-a0e5-1bbae11fe81b",
   "metadata": {},
   "outputs": [],
   "source": []
  }
 ],
 "metadata": {
  "kernelspec": {
   "display_name": "Python 3 (ipykernel)",
   "language": "python",
   "name": "python3"
  },
  "language_info": {
   "codemirror_mode": {
    "name": "ipython",
    "version": 3
   },
   "file_extension": ".py",
   "mimetype": "text/x-python",
   "name": "python",
   "nbconvert_exporter": "python",
   "pygments_lexer": "ipython3",
   "version": "3.11.9"
  }
 },
 "nbformat": 4,
 "nbformat_minor": 5
}
