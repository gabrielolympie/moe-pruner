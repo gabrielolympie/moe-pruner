{
 "cells": [
  {
   "cell_type": "code",
   "execution_count": null,
   "id": "104bf697-d365-4489-a8f5-ca9af0fc28d4",
   "metadata": {
    "scrolled": true
   },
   "outputs": [],
   "source": [
    "from transformers import AutoTokenizer\n",
    "from deepseek_v3.modeling_deepseek import DeepseekV3ForCausalLM\n",
    "import shutil\n",
    "import torch\n",
    "import os\n",
    "from dotenv import load_dotenv\n",
    "\n",
    "load_dotenv()\n",
    "\n",
    "model_name=\"DeepSeek-V3-4@1-unhealed-v0.1\"\n",
    "\n",
    "shutil.copy('UNHEALED_README.md', os.path.join(model_name, \"README.md\"))\n",
    "\n",
    "tokenizer = AutoTokenizer.from_pretrained(model_name, trust_remote_code=True)\n",
    "model = DeepseekV3ForCausalLM.from_pretrained(\n",
    "    model_name,\n",
    "    trust_remote_code=True,\n",
    "    torch_dtype=torch.bfloat16,\n",
    "    attn_implementation=\"flash_attention_2\",\n",
    "    device_map=\"cpu\", ## This should distribute automatically on all cpu\n",
    ")\n",
    "\n",
    "if tokenizer.pad_token is None:\n",
    "    tokenizer.pad_token = tokenizer.eos_token\n",
    "\n",
    "model.push_to_hub(model_name.replace('@','a'))\n",
    "tokenizer.push_to_hub(model_name.replace('@','a'))"
   ]
  },
  {
   "cell_type": "code",
   "execution_count": null,
   "id": "f993cd44-7537-4b12-8a6a-bab137b8efdc",
   "metadata": {},
   "outputs": [],
   "source": []
  },
  {
   "cell_type": "code",
   "execution_count": null,
   "id": "bf683780-7783-49d7-8e3c-5a51c3f7d636",
   "metadata": {},
   "outputs": [],
   "source": []
  }
 ],
 "metadata": {
  "kernelspec": {
   "display_name": "Python 3 (ipykernel)",
   "language": "python",
   "name": "python3"
  },
  "language_info": {
   "codemirror_mode": {
    "name": "ipython",
    "version": 3
   },
   "file_extension": ".py",
   "mimetype": "text/x-python",
   "name": "python",
   "nbconvert_exporter": "python",
   "pygments_lexer": "ipython3",
   "version": "3.11.5"
  }
 },
 "nbformat": 4,
 "nbformat_minor": 5
}
