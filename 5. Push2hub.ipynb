{
 "cells": [
  {
   "cell_type": "code",
   "execution_count": null,
   "id": "ae9d7362-22d2-459f-ae2b-731736d145c7",
   "metadata": {},
   "outputs": [],
   "source": [
    "from huggingface_hub import HfApi, HfFolder\n",
    "import shutil\n",
    "import os\n",
    "from dotenv import load_dotenv\n",
    "\n",
    "hf_token=os.environ['HF_TOKEN')\n",
    "\n",
    "# Initialize the API\n",
    "api = HfApi()\n",
    "\n",
    "repo_name=\"DeepSeek-V3-4@1-unhealed-v0.1\"\n",
    "shutil.copy('UNHEALED_README.md', os.pah.join(repo_name, \"README.md\")\n",
    "            \n",
    "# Create a new repository on the Hub\n",
    "            \n",
    "repo_url = api.create_repo(name=repo_name, token=hf_token)\n",
    "\n",
    "# Clone the repository locally\n",
    "repo_local_path = HfFolder.save_token(your_huggingface_token)\n",
    "repo = api.clone_repo(repo_url, local_dir=repo_local_path)\n",
    "\n",
    "# Add your model files and README.md to the repository\n",
    "repo.git_add(auto_lfs_track=True)\n",
    "repo.git_commit(\"Initial commit\")\n",
    "repo.git_push()"
   ]
  }
 ],
 "metadata": {
  "kernelspec": {
   "display_name": "Python 3 (ipykernel)",
   "language": "python",
   "name": "python3"
  },
  "language_info": {
   "codemirror_mode": {
    "name": "ipython",
    "version": 3
   },
   "file_extension": ".py",
   "mimetype": "text/x-python",
   "name": "python",
   "nbconvert_exporter": "python",
   "pygments_lexer": "ipython3",
   "version": "3.11.5"
  }
 },
 "nbformat": 4,
 "nbformat_minor": 5
}
