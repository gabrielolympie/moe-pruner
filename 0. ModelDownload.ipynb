{
 "cells": [
  {
   "cell_type": "markdown",
   "id": "6eb511e3-3baa-4654-b681-8433f1e68644",
   "metadata": {},
   "source": [
    "## Download the model"
   ]
  },
  {
   "cell_type": "code",
   "execution_count": null,
   "id": "c59457ca-4be8-4ddc-adcb-9936e56f5175",
   "metadata": {},
   "outputs": [],
   "source": [
    "from huggingface_hub import snapshot_download\n",
    "from transformers import AutoTokenizer, AutoModelForCausalLM, GenerationConfig\n",
    "\n",
    "model_name = \"deepseek-ai/DeepSeek-V3\"\n",
    "local_dir = model_name.split(\"/\")[1].lower().replace('-','_')\n",
    "\n",
    "tokenizer = AutoTokenizer.from_pretrained(model_name, trust_remote_code=True)\n",
    "weights_location = snapshot_download(repo_id=model_name,local_dir=local_dir)"
   ]
  },
  {
   "cell_type": "markdown",
   "id": "c7bfcff3-239b-459d-ad27-fe8d8599f3d1",
   "metadata": {},
   "source": [
    "## !!!IMPORTANT THE modeling_deepseek FILE MUST BE UPDATED FOR THE PIPELINE TO WORK PROPERLY!!!"
   ]
  },
  {
   "cell_type": "code",
   "execution_count": null,
   "id": "a8f9fb50-c93e-4d89-a8eb-9161850c9bd6",
   "metadata": {},
   "outputs": [],
   "source": [
    "import shutil\n",
    "import os\n",
    "\n",
    "model_name = \"deepseek-ai/DeepSeek-V3\"\n",
    "local_dir = model_name.split(\"/\")[1].lower().replace('-','_')\n",
    "\n",
    "shutil.copy(\"modeling_deepseek.py\", os.path.join(local_dir, \"modeling_deepseek.py\"))"
   ]
  },
  {
   "cell_type": "code",
   "execution_count": null,
   "id": "df313a97-2672-4cc5-b07a-bed8faa8ecf9",
   "metadata": {},
   "outputs": [],
   "source": []
  }
 ],
 "metadata": {
  "kernelspec": {
   "display_name": "Python 3 (ipykernel)",
   "language": "python",
   "name": "python3"
  },
  "language_info": {
   "codemirror_mode": {
    "name": "ipython",
    "version": 3
   },
   "file_extension": ".py",
   "mimetype": "text/x-python",
   "name": "python",
   "nbconvert_exporter": "python",
   "pygments_lexer": "ipython3",
   "version": "3.11.9"
  }
 },
 "nbformat": 4,
 "nbformat_minor": 5
}
