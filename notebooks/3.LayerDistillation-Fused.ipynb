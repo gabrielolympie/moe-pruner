{
 "cells": [
  {
   "cell_type": "code",
   "execution_count": null,
   "id": "4d514a11-bf4c-410c-8a31-7bb0ce10655d",
   "metadata": {},
   "outputs": [],
   "source": [
    "%load_ext autoreload\n",
    "%autoreload 2\n",
    "\n",
    "import sys\n",
    "sys.path.append('..')"
   ]
  },
  {
   "cell_type": "code",
   "execution_count": null,
   "id": "6d5caac1-3072-4b94-9696-f1e09c68737a",
   "metadata": {},
   "outputs": [],
   "source": [
    "from transformers import AutoTokenizer, AutoModelForCausalLM, AutoConfig\n",
    "\n",
    "from torch.utils.tensorboard import SummaryWriter\n",
    "\n",
    "from accelerate import init_empty_weights\n",
    "from tqdm.auto import tqdm\n",
    "from copy import deepcopy\n",
    "import numpy as np\n",
    "import argparse\n",
    "import torch\n",
    "import json\n",
    "import os\n",
    "\n",
    "# from bitsandbytes.optim.ademamix import AdEMAMix8bit as AdEMAMix\n",
    "# from utils.ademamix import AdEMAMix\n",
    "from utils.config_utils import PathConfig, DistillationParams\n",
    "\n",
    "from utils.adapters import DoRAAdapter\n",
    "\n",
    "from utils.experts_merge_utils import (\n",
    "    dequantize_GEMM,\n",
    "    prepare_distillat_topk,\n",
    "    prepare_distillat_state_cl,\n",
    "    prepare_distillat_act_cl,\n",
    "    prepare_moe_for_distillation,\n",
    "    halve_distilled_mlp,\n",
    "    merge_and_unload,\n",
    "    calibrated_dequant,\n",
    "    build_affinity_matrix,\n",
    "    expert_clustering,\n",
    "    cooccurrence_matrix,\n",
    "    group_items_by_affinity,\n",
    ")\n",
    "\n",
    "from utils.torch_utils import (\n",
    "    load_quant,\n",
    "    rsetattr,\n",
    "    destruct_module_optimized,\n",
    "    memory_cleanup,\n",
    "    load_weights,\n",
    "    WarmupCosineAnnealingLR,\n",
    "    count_parameters,\n",
    "    convert_meta_model_to_awq\n",
    ")\n",
    "\n",
    "from utils.fused import FusedMOE\n",
    "import pickle\n",
    "\n",
    "torch.set_float32_matmul_precision('medium')"
   ]
  },
  {
   "cell_type": "code",
   "execution_count": null,
   "id": "d878d480-741d-4eb2-8e35-eb39762f4396",
   "metadata": {},
   "outputs": [],
   "source": [
    "# device = \"cuda:1\"\n",
    "# model_name = \"../deepseek_v3_awq\"\n",
    "model_name = \"../deepseek_v2_lite_chat_awq\"\n",
    "\n",
    "n_batch=16\n",
    "batch_size=4\n",
    "max_length=512\n",
    "\n",
    "device=\"cuda:0\"\n",
    "\n",
    "path_config = PathConfig(\n",
    "    model_name = model_name,\n",
    "    intermediate_states = \"../data/intermediate_states\",\n",
    "    expert_states = \"../data/expert_states\",\n",
    "    expert_activations = \"../data/expert_activations\",\n",
    "    distillation_logs = \"distillation_logs\",\n",
    "    moe_states=\"moe_states\"\n",
    ")\n",
    "\n",
    "distillation_config = DistillationParams(\n",
    "    n_epochs= 1,\n",
    "    target_routed_expert = 8,\n",
    "    target_active_expert = 2,\n",
    "    eval_batches=16,\n",
    "    gradient_accumulation_steps= 4,\n",
    "    learning_rate= 8e-4,\n",
    "    end_factor= 0.2,\n",
    "    calibrate_merge=False,\n",
    "    skip_first_tokens=32, ## useful to avoid tuning on early tokens that have less informations\n",
    "    pruning_method=\"fused\", # topk , act_cl, state_cl\n",
    "    dora_rank=8,\n",
    ")"
   ]
  },
  {
   "cell_type": "markdown",
   "id": "c57971d0-ff4d-4382-b36b-c1ff31f82961",
   "metadata": {},
   "source": [
    "## Instantiate empty model"
   ]
  },
  {
   "cell_type": "code",
   "execution_count": null,
   "id": "366e49cd-05f3-4da6-b24a-cee2016a622f",
   "metadata": {},
   "outputs": [],
   "source": [
    "config=AutoConfig.from_pretrained(\n",
    "    model_name,\n",
    "    trust_remote_code=True,\n",
    "    attn_implementation=\"flash_attention_2\",\n",
    "    torch_dtype=torch.bfloat16,\n",
    "    low_cpu_mem_usage=True\n",
    ")\n",
    "\n",
    "with open(f\"{model_name}/model.safetensors.index.json\", \"r\") as f:\n",
    "    weight_map = json.load(f)[\"weight_map\"]\n",
    "\n",
    "with init_empty_weights(include_buffers=True):    \n",
    "    model = AutoModelForCausalLM.from_config(\n",
    "        config,\n",
    "        trust_remote_code=True,\n",
    "        # torch_dtype=torch.bfloat16,\n",
    "        # attn_implementation=\"flash_attention_2\",\n",
    "        # low_cpu_mem_usage=True\n",
    "    )\n",
    "\n",
    "model=convert_meta_model_to_awq(model, config, device)\n",
    "\n",
    "for name, parameter in model.named_parameters():\n",
    "    parameter.requires_grad = False\n",
    "\n",
    "model.train()\n",
    "destruct_module_optimized(model)\n",
    "memory_cleanup()"
   ]
  },
  {
   "cell_type": "markdown",
   "id": "0beed900-0a4a-43eb-acad-1ec401e921a0",
   "metadata": {},
   "source": [
    "## Load layer weights"
   ]
  },
  {
   "cell_type": "code",
   "execution_count": null,
   "id": "5ad947e1-1ed4-47ed-9d38-3ea3acc0b0d5",
   "metadata": {},
   "outputs": [],
   "source": [
    "layer_idx=25\n",
    "\n",
    "target_modules=[f\".layers.{layer_idx}.\"]\n",
    "model=load_weights(model, model_name, weight_map, target_modules, device)\n",
    "\n",
    "model.model.layers[layer_idx].mlp=model.model.layers[layer_idx].mlp.to('cuda:0')"
   ]
  },
  {
   "cell_type": "code",
   "execution_count": null,
   "id": "de222901-2b3f-4a26-add4-3feac4fa9329",
   "metadata": {
    "scrolled": true
   },
   "outputs": [],
   "source": [
    "hidden_states = load_quant(os.path.join(path_config.expert_states, f\"layer_{layer_idx}\", f\"batch_{0}\")).to(device, dtype=torch.bfloat16)[:, distillation_config.skip_first_tokens:]\n",
    "hidden_states"
   ]
  },
  {
   "cell_type": "code",
   "execution_count": null,
   "id": "d9d1c7a8-e905-4e6a-a5d2-c2b87ac2033a",
   "metadata": {},
   "outputs": [],
   "source": [
    "# for param in distilled_mlp.parameters():\n",
    "#     param.requires_grad=False\n",
    "\n",
    "with open(os.path.join(path_config.expert_activations, f\"layer_{layer_idx}.pickle\"), \"rb\") as f:\n",
    "    (top_k_output, top_k_weight) = pickle.load(f)\n",
    "\n",
    "top_k_output=top_k_output.detach().to(torch.int64).cpu().numpy()\n",
    "top_k_output[top_k_output > 512] = 0\n",
    "\n",
    "affinity_matrix = cooccurrence_matrix(top_k_output, len(np.unique(top_k_output)))\n",
    "affinity_matrix=(affinity_matrix - affinity_matrix.min())/(affinity_matrix.max()-affinity_matrix.min())\n",
    "\n",
    "group_size=affinity_matrix.shape[0] // distillation_config.target_routed_expert"
   ]
  },
  {
   "cell_type": "code",
   "execution_count": null,
   "id": "a0d6f015-3d8f-4669-9a70-ba4c409e94d4",
   "metadata": {},
   "outputs": [],
   "source": [
    "lr = 2e-4\n",
    "train_batches = len(os.listdir(os.path.join(path_config.expert_states, f\"layer_{layer_idx}\")))\n",
    "n_epoch = 2000\n",
    "\n",
    "gradient_accumulation_step = 1\n",
    "\n",
    "merge_methods = [\n",
    "    'sce',\n",
    "    'slerp',\n",
    "    'mean',\n",
    "    'greedy'\n",
    "]\n",
    "\n",
    "adapter_types = [\n",
    "    'mixture'\n",
    "]\n",
    "\n",
    "ranks = [8,64,512]\n",
    "\n",
    "eval_batches = 16\n",
    "train_batches = 32\n",
    "\n",
    "rank=8\n",
    "merge_method='slerp'\n",
    "adapter_type='mixture'\n",
    "\n",
    "\n",
    "\n",
    "# for lr in lrs:\n",
    "# for rank in ranks:\n",
    "#     for merge_method in merge_methods:\n",
    "\n",
    "distilled_mlp = deepcopy(model.model.layers[layer_idx].mlp).to(device)\n",
    "layer_norm = deepcopy(model.model.layers[layer_idx].post_attention_layernorm).to(device, dtype=torch.bfloat16)\n",
    "distilled_mlp.gate = distilled_mlp.gate.to(torch.bfloat16)\n",
    "\n",
    "for param in distilled_mlp.parameters():\n",
    "    param.requires_grad = False\n",
    "\n",
    "fused_moe = FusedMOE(distilled_mlp)\n",
    "fused_moe.fuse(affinity_matrix, group_size, train_batches, learning_rate=lr, device=device, merge_method=merge_method, rank=rank, adapter_type=adapter_type, low_vram=False)\n",
    "fused_moe.train_mode(lr, train_batches * n_epoch)\n",
    "fused_moe.set_ready()\n",
    "fused_moe.train()\n",
    "\n",
    "# destruct_module_optimized(model)\n",
    "memory_cleanup()\n",
    "\n",
    "# fused_moe = torch.compile(fused_moe, dynamic=True)\n",
    "\n",
    "for name, params in fused_moe.named_parameters():\n",
    "    if 'gate.' in name:\n",
    "        params.requires_grad = False\n",
    "    if 'qa_weights' in name:\n",
    "        params.requires_grad = True\n",
    "    if 'qb_weights' in name:\n",
    "        params.requires_grad = True\n",
    "    if 'scaling_factor' in name:\n",
    "        params.requires_grad = True\n",
    "    if 'fused_layer.weight' in name:\n",
    "        params.requires_grad = True\n",
    "\n",
    "\n",
    "writer = SummaryWriter(log_dir=f'multiplex_runs/fused_lin_{lr}_{merge_method}_{rank}_{adapter_type}_{distillation_config.target_routed_expert}')\n",
    "# train_batches=32\n",
    "for epoch in tqdm(range(n_epoch)):  \n",
    "            \n",
    "    fused_moe.train()\n",
    "    progress_bar = tqdm(range(train_batches - eval_batches), desc=f\"Calibrating fused_{lr}_{merge_method}_{rank}_{adapter_type}\")\n",
    "    for batch_idx in progress_bar:\n",
    "        if epoch == 0:\n",
    "            if batch_idx == 128:\n",
    "                # if 'fused_layer.weight' in name:\n",
    "                #     params.requires_grad = True\n",
    "                if 'scaling_factor' in name:\n",
    "                    params.requires_grad = False\n",
    "\n",
    "        \n",
    "        hidden_states = load_quant(os.path.join(path_config.expert_states, f\"layer_{layer_idx}\", f\"batch_{batch_idx}\")).to(device, dtype=torch.bfloat16)[:, distillation_config.skip_first_tokens:]\n",
    "        output = load_quant(os.path.join(path_config.intermediate_states, f\"layer_{layer_idx}\", f\"batch_{batch_idx}\")).to(device, dtype=torch.bfloat16)[:, distillation_config.skip_first_tokens:]\n",
    "\n",
    "        if not(output.max().isnan()): ## sometime there is numerical instability\n",
    "            loss = fused_moe.train_step(hidden_states, layer_norm, temperature=1, output=output, gradient_accumulation_step=gradient_accumulation_step)\n",
    "            progress_bar.set_postfix(loss=loss.item())\n",
    "\n",
    "        writer.add_scalar(f'Loss/train', loss.item(), batch_idx + epoch * (train_batches - eval_batches))\n",
    "\n",
    "    memory_cleanup()\n",
    "    # Evaluation phase\n",
    "    eval_progress_bar = tqdm(range(train_batches - eval_batches, train_batches), desc=f\"Evaluating fused_{lr}_{merge_method}_{rank}_{adapter_type}\")\n",
    "    eval_losses = []\n",
    "    fused_moe.eval()\n",
    "    for batch_idx in eval_progress_bar:\n",
    "        hidden_states = load_quant(os.path.join(path_config.expert_states, f\"layer_{layer_idx}\", f\"batch_{batch_idx}\")).to(device, dtype=torch.bfloat16)[:, distillation_config.skip_first_tokens:256]\n",
    "        output = load_quant(os.path.join(path_config.intermediate_states, f\"layer_{layer_idx}\", f\"batch_{batch_idx}\")).to(device, dtype=torch.bfloat16)[:, distillation_config.skip_first_tokens:256]\n",
    "        true=output\n",
    "        residual = deepcopy(hidden_states)\n",
    "        hidden_states = layer_norm(hidden_states)\n",
    "\n",
    "        if not(output.max().isnan()): ## sometime there is numerical instability\n",
    "            pred = fused_moe.forward(hidden_states) + residual\n",
    "\n",
    "        local_loss = torch.nn.functional.smooth_l1_loss(pred, output, reduction='mean')\n",
    "        eval_losses.append(local_loss.item())\n",
    "        eval_progress_bar.set_postfix(loss=local_loss.item())\n",
    "\n",
    "    median_eval_loss = torch.tensor(eval_losses).median().item()\n",
    "    writer.add_scalar(f'Loss/eval', median_eval_loss, epoch)\n",
    "    memory_cleanup()\n",
    "\n",
    "# Close the writer\n",
    "writer.close()\n",
    "destruct_module_optimized(fused_moe)\n"
   ]
  },
  {
   "cell_type": "code",
   "execution_count": null,
   "id": "d095b90c-4a21-4792-910b-cbc71db67816",
   "metadata": {
    "scrolled": true
   },
   "outputs": [],
   "source": [
    "hidden_states = load_quant(os.path.join(path_config.expert_states, f\"layer_{layer_idx}\", f\"batch_{4000}\")).to(device, dtype=torch.bfloat16)[:, distillation_config.skip_first_tokens:256]\n",
    "output = load_quant(os.path.join(path_config.intermediate_states, f\"layer_{layer_idx}\", f\"batch_{4000}\")).to(device, dtype=torch.bfloat16)[:, distillation_config.skip_first_tokens:256]\n",
    "true=output\n",
    "residual = deepcopy(hidden_states)\n",
    "hidden_states = layer_norm(hidden_states)\n",
    "\n",
    "if not(output.max().isnan()): ## sometime there is numerical instability\n",
    "    pred = fused_moe.forward(hidden_states) + residual"
   ]
  },
  {
   "cell_type": "code",
   "execution_count": null,
   "id": "cf1e83b4-e19d-4add-a528-b93383741dc3",
   "metadata": {
    "scrolled": true
   },
   "outputs": [],
   "source": [
    "pred"
   ]
  },
  {
   "cell_type": "code",
   "execution_count": null,
   "id": "c0087e40-8a96-40b3-bd5c-cd163951d4c9",
   "metadata": {},
   "outputs": [],
   "source": [
    "true"
   ]
  },
  {
   "cell_type": "code",
   "execution_count": null,
   "id": "9df1233e-f2b3-4f1a-94ca-595ed3ecdc52",
   "metadata": {},
   "outputs": [],
   "source": [
    "fused_moe"
   ]
  },
  {
   "cell_type": "code",
   "execution_count": null,
   "id": "2f487b33-7d2d-40a0-abda-612e1932c92b",
   "metadata": {},
   "outputs": [],
   "source": [
    "destruct_module_optimized(fused_moe)"
   ]
  },
  {
   "cell_type": "code",
   "execution_count": null,
   "id": "427f63af-c2ff-45d0-b85b-15419d3f1411",
   "metadata": {},
   "outputs": [],
   "source": [
    "hidden_states = load_quant(os.path.join(path_config.expert_states, f\"layer_{layer_idx}\", f\"batch_{34}\")).to(device, dtype=torch.bfloat16)[:, distillation_config.skip_first_tokens:]\n",
    "output = load_quant(os.path.join(path_config.intermediate_states, f\"layer_{layer_idx}\", f\"batch_{34}\")).to(device, dtype=torch.bfloat16)[:, distillation_config.skip_first_tokens:]"
   ]
  },
  {
   "cell_type": "code",
   "execution_count": null,
   "id": "78a9082a-e7f7-42b2-9070-d7a2a18c76a1",
   "metadata": {},
   "outputs": [],
   "source": [
    "hidden_states.max(), "
   ]
  },
  {
   "cell_type": "code",
   "execution_count": null,
   "id": "b5e8c3ef-fc1d-454e-b9a5-0bc8bbaa31d1",
   "metadata": {},
   "outputs": [],
   "source": [
    "destruct_module_optimized(model)\n",
    "destruct_module_optimized(distilled_mlp)\n",
    "destruct_module_optimized(fused_moe)"
   ]
  },
  {
   "cell_type": "code",
   "execution_count": null,
   "id": "3623c256-9221-4e88-b138-2d1fa504a438",
   "metadata": {},
   "outputs": [],
   "source": [
    "memory_cleanup()"
   ]
  },
  {
   "cell_type": "code",
   "execution_count": null,
   "id": "18613c62-e593-4125-90a8-f2f90963b194",
   "metadata": {},
   "outputs": [],
   "source": [
    "fused_moe.set_ready()"
   ]
  },
  {
   "cell_type": "code",
   "execution_count": null,
   "id": "86d9d054-1f5f-4091-96bd-ce20fdd77e00",
   "metadata": {
    "scrolled": true
   },
   "outputs": [],
   "source": [
    "fused_moe.state_dict()"
   ]
  }
 ],
 "metadata": {
  "kernelspec": {
   "display_name": "Python 3 (ipykernel)",
   "language": "python",
   "name": "python3"
  },
  "language_info": {
   "codemirror_mode": {
    "name": "ipython",
    "version": 3
   },
   "file_extension": ".py",
   "mimetype": "text/x-python",
   "name": "python",
   "nbconvert_exporter": "python",
   "pygments_lexer": "ipython3",
   "version": "3.11.9"
  }
 },
 "nbformat": 4,
 "nbformat_minor": 5
}
