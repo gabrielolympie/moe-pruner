{
 "cells": [
  {
   "cell_type": "code",
   "execution_count": null,
   "id": "1e34002d-92c5-4992-8ff0-19eb0ea4a649",
   "metadata": {},
   "outputs": [],
   "source": [
    "%load_ext autoreload\n",
    "%autoreload 2\n",
    "\n",
    "import sys\n",
    "sys.path.append('..')"
   ]
  },
  {
   "cell_type": "code",
   "execution_count": null,
   "id": "780e264d-b6c6-4834-8dba-a15e6ebbaea1",
   "metadata": {},
   "outputs": [],
   "source": [
    "# from transformers import AutoModelForCausalLM\n",
    "# from utils.torch_utils import count_parameters\n",
    "# import torch\n",
    "\n",
    "# model_path=\"/home/golympie/ai-toolbox/pruned_models/deepseek_coder_v2_lite_instruct_fused_16/\"\n",
    "\n",
    "# model=AutoModelForCausalLM.from_pretrained(\n",
    "#     model_path, \n",
    "#     device_map='cpu',\n",
    "#     trust_remote_code=True\n",
    "# )\n",
    "# count_parameters(model)\n",
    "\n",
    "# # Deepseek-Coder-v2-Lite-Instruct_Fused_2B"
   ]
  },
  {
   "cell_type": "markdown",
   "id": "e97d2b76-73fe-4f3d-b369-25ba562157ce",
   "metadata": {},
   "source": [
    "sizes\n",
    "\n",
    "2 = 2B\n",
    "\n",
    "4 = 2.3B\n",
    "\n",
    "8 = 3B\n",
    "\n",
    "16 = 5B"
   ]
  },
  {
   "cell_type": "code",
   "execution_count": null,
   "id": "22ac06aa",
   "metadata": {},
   "outputs": [],
   "source": [
    "# Deepseek-Coder-V2-Lite-Instruct-Fused-2E-2B-preview-Unhealed\n",
    "# Deepseek-Coder-V2-Lite-Instruct-Fused-4E-2_5B-preview-Unhealed\n",
    "# Deepseek-Coder-V2-Lite-Instruct-Fused-8E-3B-preview-Unhealed\n",
    "# Deepseek-Coder-V2-Lite-Instruct-Fused-16E-5B-preview-Unhealed"
   ]
  },
  {
   "cell_type": "code",
   "execution_count": null,
   "id": "5623d253-974e-42dd-85f0-f207c8c6ec8e",
   "metadata": {},
   "outputs": [],
   "source": [
    "import os\n",
    "os.environ[\"CUDA_VISIBLE_DEVICES\"] =\"1\""
   ]
  },
  {
   "cell_type": "code",
   "execution_count": null,
   "id": "a766e273-f8e8-4e3b-9b00-ba8103e29a21",
   "metadata": {},
   "outputs": [],
   "source": [
    "from datasets import load_dataset\n",
    "from gptqmodel import GPTQModel, QuantizeConfig\n",
    "\n",
    "model_id = \"../../pruned_models/Deepseek-Coder-V2-Lite-Instruct-Fused-4E-2_5B-preview/\"\n",
    "quant_path = \"pruned_models/Deepseek-Coder-V2-Lite-Instruct-Fused-4E-2_5B-preview-GPTQ\"\n",
    "\n",
    "calibration_dataset = load_dataset(\n",
    "    \"stas/openwebtext-10k\",\n",
    "    split=\"train\"\n",
    "  ).select(range(128))[\"text\"]\n",
    "\n",
    "calibration_dataset=[elt[:2048] for elt in calibration_dataset]\n",
    "\n",
    "quant_config = QuantizeConfig(bits=4, group_size=128)\n",
    "\n",
    "model = GPTQModel.load(\n",
    "    model_id,\n",
    "    quant_config,\n",
    "    trust_remote_code=True,\n",
    ")\n",
    "\n",
    "# increase `batch_size` to match gpu/vram specs to speed up quantization\n"
   ]
  },
  {
   "cell_type": "code",
   "execution_count": null,
   "id": "e267cae4-4dc6-4b6d-a0e8-f86d6f4d3104",
   "metadata": {
    "scrolled": true
   },
   "outputs": [],
   "source": [
    "model.quantize(calibration_dataset, batch_size=4)\n",
    "\n",
    "model.save(quant_path)\n",
    "\n",
    "# test post-quant inference\n",
    "model = GPTQModel.load(quant_path)\n"
   ]
  },
  {
   "cell_type": "code",
   "execution_count": null,
   "id": "7d088a08-55aa-4500-8498-d3a5e2d013c2",
   "metadata": {
    "scrolled": true
   },
   "outputs": [],
   "source": [
    "result = model.generate(\"Uncovering deep insights begins with\")[0] # tokens\n",
    "print(model.tokenizer.decode(result)) # string output"
   ]
  },
  {
   "cell_type": "code",
   "execution_count": null,
   "id": "f44c4c95-4420-49b2-80e6-e839473c3aad",
   "metadata": {},
   "outputs": [],
   "source": []
  }
 ],
 "metadata": {
  "kernelspec": {
   "display_name": "Python 3 (ipykernel)",
   "language": "python",
   "name": "python3"
  },
  "language_info": {
   "codemirror_mode": {
    "name": "ipython",
    "version": 3
   },
   "file_extension": ".py",
   "mimetype": "text/x-python",
   "name": "python",
   "nbconvert_exporter": "python",
   "pygments_lexer": "ipython3",
   "version": "3.11.9"
  }
 },
 "nbformat": 4,
 "nbformat_minor": 5
}
