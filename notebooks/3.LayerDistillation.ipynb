{
 "cells": [
  {
   "cell_type": "code",
   "execution_count": null,
   "id": "e6d5b826-d545-414a-b06b-92a565d1766a",
   "metadata": {},
   "outputs": [],
   "source": [
    "7168 * 4 * 512 * 1024 * 2 * 60 / 1000000000"
   ]
  },
  {
   "cell_type": "code",
   "execution_count": 1,
   "id": "ebe114b5-6bb6-447b-b4ed-fe0a2bb0e584",
   "metadata": {},
   "outputs": [],
   "source": [
    "%load_ext autoreload\n",
    "%autoreload 2\n",
    "\n",
    "import sys\n",
    "sys.path.append('..')"
   ]
  },
  {
   "cell_type": "code",
   "execution_count": 2,
   "id": "6d5caac1-3072-4b94-9696-f1e09c68737a",
   "metadata": {},
   "outputs": [],
   "source": [
    "from transformers import AutoTokenizer, AutoModelForCausalLM\n",
    "\n",
    "from torch.utils.tensorboard import SummaryWriter\n",
    "from peft.tuners import lora\n",
    "from accelerate import init_empty_weights\n",
    "from tqdm.auto import tqdm\n",
    "from copy import deepcopy\n",
    "import numpy as np\n",
    "import argparse\n",
    "import torch\n",
    "import json\n",
    "import os\n",
    "\n",
    "from utils.ademamix import AdEMAMix\n",
    "from utils.config_utils import PathConfig, DistillationParams\n",
    "\n",
    "from utils.adapters import DoRAAdapter\n",
    "\n",
    "from utils.experts_merge_utils import (\n",
    "    dequantize_GEMM,\n",
    "    prepare_distillat_topk,\n",
    "    prepare_distillat_state_cl,\n",
    "    prepare_distillat_act_cl\n",
    ")\n",
    "\n",
    "from utils.torch_utils import (\n",
    "    load_quant,\n",
    "    rsetattr,\n",
    "    destruct_module_optimized,\n",
    "    memory_cleanup,\n",
    "    load_weights,\n",
    "    WarmupCosineAnnealingLR\n",
    ")\n",
    "\n",
    "\n",
    "torch.set_float32_matmul_precision('medium')"
   ]
  },
  {
   "cell_type": "code",
   "execution_count": 3,
   "id": "d878d480-741d-4eb2-8e35-eb39762f4396",
   "metadata": {},
   "outputs": [],
   "source": [
    "device = \"cuda:1\"\n",
    "model_name = \"../deepseek_coder_v2_lite_instruct_awq\"\n",
    "\n",
    "n_batch=16\n",
    "batch_size=8\n",
    "max_length=512\n",
    "\n",
    "device=\"cuda:0\"\n",
    "\n",
    "path_config = PathConfig(\n",
    "    model_name = model_name,\n",
    "    intermediate_states = \"../data/intermediate_states\",\n",
    "    expert_states = \"../data/expert_states\",\n",
    "    expert_activations = \"../data/expert_activations\",\n",
    "    distillation_logs = \"distillation_logs\",\n",
    "    moe_states=\"moe_states\"\n",
    ")\n",
    "\n",
    "distillation_config = DistillationParams(\n",
    "    n_epochs= 1,\n",
    "    target_routed_expert = 16,\n",
    "    target_active_expert = 4,\n",
    "    eval_batches=16,\n",
    "    gradient_accumulation_steps= 4,\n",
    "    learning_rate= 8e-4,\n",
    "    end_factor= 0.2,\n",
    "    calibrate_merge=False,\n",
    "    skip_first_tokens=32, ## useful to avoid tuning on early tokens that have less informations\n",
    "    pruning_method=\"topk\", # topk , act_cl, state_cl\n",
    "    dora_rank=16,\n",
    ")"
   ]
  },
  {
   "cell_type": "markdown",
   "id": "c57971d0-ff4d-4382-b36b-c1ff31f82961",
   "metadata": {},
   "source": [
    "## Instantiate empty model"
   ]
  },
  {
   "cell_type": "code",
   "execution_count": 4,
   "id": "366e49cd-05f3-4da6-b24a-cee2016a622f",
   "metadata": {
    "scrolled": true
   },
   "outputs": [
    {
     "name": "stderr",
     "output_type": "stream",
     "text": [
      "You have loaded an AWQ model on CPU and have a CUDA device available, make sure to set your model on a GPU device in order to run your model.\n",
      "We suggest you to set `torch_dtype=torch.float16` for better efficiency with AWQ.\n",
      "You are attempting to use Flash Attention 2.0 with a model not initialized on GPU. Make sure to move the model to GPU after initializing it on CPU with `model.to('cuda')`.\n"
     ]
    },
    {
     "data": {
      "application/vnd.jupyter.widget-view+json": {
       "model_id": "e51b40f57565478586a5138aa75ab16a",
       "version_major": 2,
       "version_minor": 0
      },
      "text/plain": [
       "Loading checkpoint shards:   0%|          | 0/2 [00:00<?, ?it/s]"
      ]
     },
     "metadata": {},
     "output_type": "display_data"
    }
   ],
   "source": [
    "with open(f\"{model_name}/model.safetensors.index.json\", \"r\") as f:\n",
    "    weight_map = json.load(f)[\"weight_map\"]\n",
    "\n",
    "with init_empty_weights():\n",
    "    model = AutoModelForCausalLM.from_pretrained(\n",
    "        model_name,\n",
    "        trust_remote_code=True,\n",
    "        torch_dtype=torch.bfloat16,\n",
    "        attn_implementation=\"flash_attention_2\",\n",
    "        low_cpu_mem_usage=True,\n",
    "    )\n",
    "\n",
    "for name, parameter in model.named_parameters():\n",
    "    parameter.requires_grad = False\n",
    "\n",
    "model.train()\n",
    "destruct_module_optimized(model)\n",
    "memory_cleanup()"
   ]
  },
  {
   "cell_type": "markdown",
   "id": "0beed900-0a4a-43eb-acad-1ec401e921a0",
   "metadata": {},
   "source": [
    "## Load layer weights"
   ]
  },
  {
   "cell_type": "code",
   "execution_count": 5,
   "id": "5ad947e1-1ed4-47ed-9d38-3ea3acc0b0d5",
   "metadata": {},
   "outputs": [
    {
     "data": {
      "application/vnd.jupyter.widget-view+json": {
       "model_id": "d9d5a0758fc54f5ea2ea6038b9603287",
       "version_major": 2,
       "version_minor": 0
      },
      "text/plain": [
       "  0%|          | 0/15653 [00:00<?, ?it/s]"
      ]
     },
     "metadata": {},
     "output_type": "display_data"
    }
   ],
   "source": [
    "layer_idx=22\n",
    "\n",
    "model.model.layers[layer_idx].to_empty(device=device)\n",
    "target_modules=[f\".layers.{layer_idx}.\"]\n",
    "model=load_weights(model, model_name, weight_map, target_modules, device)"
   ]
  },
  {
   "cell_type": "code",
   "execution_count": 15,
   "id": "50601acd-2173-46d6-a8f6-6306f8743781",
   "metadata": {
    "scrolled": true
   },
   "outputs": [
    {
     "data": {
      "application/vnd.jupyter.widget-view+json": {
       "model_id": "fd4a91ae5efe4eebb862d62fdebd610c",
       "version_major": 2,
       "version_minor": 0
      },
      "text/plain": [
       "  0%|          | 0/16 [00:00<?, ?it/s]"
      ]
     },
     "metadata": {},
     "output_type": "display_data"
    },
    {
     "data": {
      "application/vnd.jupyter.widget-view+json": {
       "model_id": "191e9e35ae0a40baaa2daa462ab817cc",
       "version_major": 2,
       "version_minor": 0
      },
      "text/plain": [
       "  0%|          | 0/5 [00:00<?, ?it/s]"
      ]
     },
     "metadata": {},
     "output_type": "display_data"
    },
    {
     "data": {
      "application/vnd.jupyter.widget-view+json": {
       "model_id": "7d8b24e374a548a69217a7b063d54f9a",
       "version_major": 2,
       "version_minor": 0
      },
      "text/plain": [
       "  0%|          | 0/7 [00:00<?, ?it/s]"
      ]
     },
     "metadata": {},
     "output_type": "display_data"
    },
    {
     "data": {
      "application/vnd.jupyter.widget-view+json": {
       "model_id": "0b0b9fda8c614530ba9c77fba0851950",
       "version_major": 2,
       "version_minor": 0
      },
      "text/plain": [
       "  0%|          | 0/3 [00:00<?, ?it/s]"
      ]
     },
     "metadata": {},
     "output_type": "display_data"
    },
    {
     "data": {
      "application/vnd.jupyter.widget-view+json": {
       "model_id": "a95ed33cde7e4631b74064148e7f25c1",
       "version_major": 2,
       "version_minor": 0
      },
      "text/plain": [
       "  0%|          | 0/7 [00:00<?, ?it/s]"
      ]
     },
     "metadata": {},
     "output_type": "display_data"
    },
    {
     "data": {
      "application/vnd.jupyter.widget-view+json": {
       "model_id": "fae34ccc8f7d4109a2dcaf7c974c7943",
       "version_major": 2,
       "version_minor": 0
      },
      "text/plain": [
       "  0%|          | 0/3 [00:00<?, ?it/s]"
      ]
     },
     "metadata": {},
     "output_type": "display_data"
    },
    {
     "data": {
      "application/vnd.jupyter.widget-view+json": {
       "model_id": "ec0953025e204d2faaf54834938062d8",
       "version_major": 2,
       "version_minor": 0
      },
      "text/plain": [
       "  0%|          | 0/1 [00:00<?, ?it/s]"
      ]
     },
     "metadata": {},
     "output_type": "display_data"
    },
    {
     "data": {
      "application/vnd.jupyter.widget-view+json": {
       "model_id": "cc21c9f21bcf4cf7b7226e4836e3c0bd",
       "version_major": 2,
       "version_minor": 0
      },
      "text/plain": [
       "  0%|          | 0/4 [00:00<?, ?it/s]"
      ]
     },
     "metadata": {},
     "output_type": "display_data"
    },
    {
     "data": {
      "application/vnd.jupyter.widget-view+json": {
       "model_id": "a13b37cf6ea24707b98f4ebf62255362",
       "version_major": 2,
       "version_minor": 0
      },
      "text/plain": [
       "  0%|          | 0/3 [00:00<?, ?it/s]"
      ]
     },
     "metadata": {},
     "output_type": "display_data"
    },
    {
     "data": {
      "application/vnd.jupyter.widget-view+json": {
       "model_id": "784f9bdeda924b969741bdebb9c148f8",
       "version_major": 2,
       "version_minor": 0
      },
      "text/plain": [
       "  0%|          | 0/2 [00:00<?, ?it/s]"
      ]
     },
     "metadata": {},
     "output_type": "display_data"
    },
    {
     "data": {
      "application/vnd.jupyter.widget-view+json": {
       "model_id": "8f3589dfcaaf4582bf82509604fd0a85",
       "version_major": 2,
       "version_minor": 0
      },
      "text/plain": [
       "  0%|          | 0/6 [00:00<?, ?it/s]"
      ]
     },
     "metadata": {},
     "output_type": "display_data"
    },
    {
     "data": {
      "application/vnd.jupyter.widget-view+json": {
       "model_id": "ede7a14b774f4c488719be5a9865dde1",
       "version_major": 2,
       "version_minor": 0
      },
      "text/plain": [
       "  0%|          | 0/3 [00:00<?, ?it/s]"
      ]
     },
     "metadata": {},
     "output_type": "display_data"
    },
    {
     "data": {
      "application/vnd.jupyter.widget-view+json": {
       "model_id": "1fbefa2c994a43a3834f584599789538",
       "version_major": 2,
       "version_minor": 0
      },
      "text/plain": [
       "  0%|          | 0/3 [00:00<?, ?it/s]"
      ]
     },
     "metadata": {},
     "output_type": "display_data"
    },
    {
     "data": {
      "application/vnd.jupyter.widget-view+json": {
       "model_id": "8a7b8abacfe84530a885c12a835aa303",
       "version_major": 2,
       "version_minor": 0
      },
      "text/plain": [
       "  0%|          | 0/2 [00:00<?, ?it/s]"
      ]
     },
     "metadata": {},
     "output_type": "display_data"
    },
    {
     "data": {
      "application/vnd.jupyter.widget-view+json": {
       "model_id": "ca42074186c5409bb7a6d3f3f03b6098",
       "version_major": 2,
       "version_minor": 0
      },
      "text/plain": [
       "  0%|          | 0/4 [00:00<?, ?it/s]"
      ]
     },
     "metadata": {},
     "output_type": "display_data"
    },
    {
     "data": {
      "application/vnd.jupyter.widget-view+json": {
       "model_id": "c46930122e334f798975b0ade622edec",
       "version_major": 2,
       "version_minor": 0
      },
      "text/plain": [
       "  0%|          | 0/9 [00:00<?, ?it/s]"
      ]
     },
     "metadata": {},
     "output_type": "display_data"
    },
    {
     "data": {
      "application/vnd.jupyter.widget-view+json": {
       "model_id": "58caea1d69a141d4a2ae70dda0d81d5c",
       "version_major": 2,
       "version_minor": 0
      },
      "text/plain": [
       "  0%|          | 0/2 [00:00<?, ?it/s]"
      ]
     },
     "metadata": {},
     "output_type": "display_data"
    }
   ],
   "source": [
    "distilled_mlp=deepcopy(model.model.layers[layer_idx].mlp).to(device)\n",
    "layer_norm=deepcopy(model.model.layers[layer_idx].post_attention_layernorm).to(device, dtype=torch.bfloat16)\n",
    "\n",
    "distilled_mlp.train()\n",
    "\n",
    "distilled_mlp.config.n_routed_experts=distillation_config.target_routed_expert\n",
    "distilled_mlp.config.num_experts_per_tok=distillation_config.target_active_expert\n",
    "distilled_mlp.n_routed_experts=distillation_config.target_routed_expert\n",
    "distilled_mlp.num_experts_per_tok=distillation_config.target_active_expert\n",
    "\n",
    "# destruct_module_optimized(model)\n",
    "# memory_cleanup()\n",
    "\n",
    "distillation_config.pruning_method=\"act_cl\"\n",
    "if distillation_config.pruning_method == \"state_cl\":\n",
    "    ## Method 1 : By expert output similarity\n",
    "    distillat=prepare_distillat_state_cl(distilled_mlp, layer_norm, model.config.scoring_func, distillation_config, path_config, layer_idx, device)\n",
    "elif distillation_config.pruning_method == \"act_cl\":\n",
    "    ## Method 2 : By analysing the cooccurence of the experts\n",
    "    distillat=prepare_distillat_act_cl(distilled_mlp, layer_norm, model.config.scoring_func,  distillation_config, path_config, layer_idx, device)\n",
    "else:\n",
    "    # Method 3 keep n most asctivated experts\n",
    "    distilled_mlp=prepare_distillat_topk(distilled_mlp,layer_norm, distillation_config, path_config, layer_idx, device)"
   ]
  },
  {
   "cell_type": "markdown",
   "id": "083ceddd-8a23-4cf6-9ebc-c108184231d2",
   "metadata": {},
   "source": [
    "## Prepare Model for finetuning"
   ]
  },
  {
   "cell_type": "code",
   "execution_count": 16,
   "id": "56aec970-d6e0-4441-8087-fe869a52928a",
   "metadata": {
    "scrolled": true
   },
   "outputs": [],
   "source": [
    "b=deepcopy(distilled_mlp)"
   ]
  },
  {
   "cell_type": "code",
   "execution_count": 17,
   "id": "ead74419-35c0-4b7a-8dbf-af892fa02342",
   "metadata": {
    "scrolled": true
   },
   "outputs": [
    {
     "data": {
      "application/vnd.jupyter.widget-view+json": {
       "model_id": "e354b058d39846f0beeaeea394bbe8a9",
       "version_major": 2,
       "version_minor": 0
      },
      "text/plain": [
       "0it [00:00, ?it/s]"
      ]
     },
     "metadata": {},
     "output_type": "display_data"
    }
   ],
   "source": [
    "### Ensure that gates are not frozen\n",
    "distilled_mlp=deepcopy(b)\n",
    "\n",
    "# distilled_mlp, _=dequantize_GEMM(distilled_mlp)\n",
    "for name, parameter in distilled_mlp.named_parameters():\n",
    "    if 'gate.' in name:\n",
    "        parameter.requires_grad=True\n",
    "    else:\n",
    "        parameter.requires_grad=False\n",
    "\n",
    "for name, module in tqdm(distilled_mlp.named_modules()):\n",
    "    \n",
    "    if isinstance(module, torch.nn.Linear):\n",
    "        rsetattr(\n",
    "            distilled_mlp,\n",
    "            name,\n",
    "            lora.Linear(\n",
    "                module,\n",
    "                adapter_name=\"adapter\",\n",
    "                r=distillation_config.dora_rank,\n",
    "                lora_alpha=distillation_config.dora_rank,\n",
    "                lora_dropout=0.05,\n",
    "                use_dora=True,\n",
    "            ).to(device=device, dtype=torch.bfloat16)\n",
    "        )\n",
    "        "
   ]
  },
  {
   "cell_type": "code",
   "execution_count": 18,
   "id": "61de2e1d-76be-4f46-8812-6f8d342d1206",
   "metadata": {
    "scrolled": true
   },
   "outputs": [
    {
     "data": {
      "application/vnd.jupyter.widget-view+json": {
       "model_id": "45217033018e4df68c703e3ae58c3e03",
       "version_major": 2,
       "version_minor": 0
      },
      "text/plain": [
       "Calibrating merged expert, epoch 0:   0%|          | 0/2032 [00:00<?, ?it/s]"
      ]
     },
     "metadata": {},
     "output_type": "display_data"
    },
    {
     "ename": "KeyboardInterrupt",
     "evalue": "",
     "output_type": "error",
     "traceback": [
      "\u001b[0;31m---------------------------------------------------------------------------\u001b[0m",
      "\u001b[0;31mKeyboardInterrupt\u001b[0m                         Traceback (most recent call last)",
      "Cell \u001b[0;32mIn[18], line 57\u001b[0m\n\u001b[1;32m     53\u001b[0m     pred \u001b[38;5;241m=\u001b[39m pred \u001b[38;5;241m+\u001b[39m residual\n\u001b[1;32m     55\u001b[0m     loss \u001b[38;5;241m=\u001b[39m criterion(pred, outputs)\n\u001b[0;32m---> 57\u001b[0m \u001b[43mloss\u001b[49m\u001b[38;5;241;43m.\u001b[39;49m\u001b[43mbackward\u001b[49m\u001b[43m(\u001b[49m\u001b[43m)\u001b[49m\n\u001b[1;32m     58\u001b[0m \u001b[38;5;28;01mif\u001b[39;00m (epoch \u001b[38;5;241m*\u001b[39m train_batches \u001b[38;5;241m+\u001b[39m batch_idx \u001b[38;5;241m+\u001b[39m \u001b[38;5;241m1\u001b[39m) \u001b[38;5;241m%\u001b[39m distillation_config\u001b[38;5;241m.\u001b[39mgradient_accumulation_steps \u001b[38;5;241m==\u001b[39m \u001b[38;5;241m0\u001b[39m:\n\u001b[1;32m     59\u001b[0m     optimizer\u001b[38;5;241m.\u001b[39mstep()\n",
      "File \u001b[0;32m~/miniconda3/lib/python3.11/site-packages/torch/_tensor.py:626\u001b[0m, in \u001b[0;36mTensor.backward\u001b[0;34m(self, gradient, retain_graph, create_graph, inputs)\u001b[0m\n\u001b[1;32m    616\u001b[0m \u001b[38;5;28;01mif\u001b[39;00m has_torch_function_unary(\u001b[38;5;28mself\u001b[39m):\n\u001b[1;32m    617\u001b[0m     \u001b[38;5;28;01mreturn\u001b[39;00m handle_torch_function(\n\u001b[1;32m    618\u001b[0m         Tensor\u001b[38;5;241m.\u001b[39mbackward,\n\u001b[1;32m    619\u001b[0m         (\u001b[38;5;28mself\u001b[39m,),\n\u001b[0;32m   (...)\u001b[0m\n\u001b[1;32m    624\u001b[0m         inputs\u001b[38;5;241m=\u001b[39minputs,\n\u001b[1;32m    625\u001b[0m     )\n\u001b[0;32m--> 626\u001b[0m \u001b[43mtorch\u001b[49m\u001b[38;5;241;43m.\u001b[39;49m\u001b[43mautograd\u001b[49m\u001b[38;5;241;43m.\u001b[39;49m\u001b[43mbackward\u001b[49m\u001b[43m(\u001b[49m\n\u001b[1;32m    627\u001b[0m \u001b[43m    \u001b[49m\u001b[38;5;28;43mself\u001b[39;49m\u001b[43m,\u001b[49m\u001b[43m \u001b[49m\u001b[43mgradient\u001b[49m\u001b[43m,\u001b[49m\u001b[43m \u001b[49m\u001b[43mretain_graph\u001b[49m\u001b[43m,\u001b[49m\u001b[43m \u001b[49m\u001b[43mcreate_graph\u001b[49m\u001b[43m,\u001b[49m\u001b[43m \u001b[49m\u001b[43minputs\u001b[49m\u001b[38;5;241;43m=\u001b[39;49m\u001b[43minputs\u001b[49m\n\u001b[1;32m    628\u001b[0m \u001b[43m\u001b[49m\u001b[43m)\u001b[49m\n",
      "File \u001b[0;32m~/miniconda3/lib/python3.11/site-packages/torch/autograd/__init__.py:347\u001b[0m, in \u001b[0;36mbackward\u001b[0;34m(tensors, grad_tensors, retain_graph, create_graph, grad_variables, inputs)\u001b[0m\n\u001b[1;32m    342\u001b[0m     retain_graph \u001b[38;5;241m=\u001b[39m create_graph\n\u001b[1;32m    344\u001b[0m \u001b[38;5;66;03m# The reason we repeat the same comment below is that\u001b[39;00m\n\u001b[1;32m    345\u001b[0m \u001b[38;5;66;03m# some Python versions print out the first line of a multi-line function\u001b[39;00m\n\u001b[1;32m    346\u001b[0m \u001b[38;5;66;03m# calls in the traceback and some print out the last line\u001b[39;00m\n\u001b[0;32m--> 347\u001b[0m \u001b[43m_engine_run_backward\u001b[49m\u001b[43m(\u001b[49m\n\u001b[1;32m    348\u001b[0m \u001b[43m    \u001b[49m\u001b[43mtensors\u001b[49m\u001b[43m,\u001b[49m\n\u001b[1;32m    349\u001b[0m \u001b[43m    \u001b[49m\u001b[43mgrad_tensors_\u001b[49m\u001b[43m,\u001b[49m\n\u001b[1;32m    350\u001b[0m \u001b[43m    \u001b[49m\u001b[43mretain_graph\u001b[49m\u001b[43m,\u001b[49m\n\u001b[1;32m    351\u001b[0m \u001b[43m    \u001b[49m\u001b[43mcreate_graph\u001b[49m\u001b[43m,\u001b[49m\n\u001b[1;32m    352\u001b[0m \u001b[43m    \u001b[49m\u001b[43minputs\u001b[49m\u001b[43m,\u001b[49m\n\u001b[1;32m    353\u001b[0m \u001b[43m    \u001b[49m\u001b[43mallow_unreachable\u001b[49m\u001b[38;5;241;43m=\u001b[39;49m\u001b[38;5;28;43;01mTrue\u001b[39;49;00m\u001b[43m,\u001b[49m\n\u001b[1;32m    354\u001b[0m \u001b[43m    \u001b[49m\u001b[43maccumulate_grad\u001b[49m\u001b[38;5;241;43m=\u001b[39;49m\u001b[38;5;28;43;01mTrue\u001b[39;49;00m\u001b[43m,\u001b[49m\n\u001b[1;32m    355\u001b[0m \u001b[43m\u001b[49m\u001b[43m)\u001b[49m\n",
      "File \u001b[0;32m~/miniconda3/lib/python3.11/site-packages/torch/autograd/graph.py:823\u001b[0m, in \u001b[0;36m_engine_run_backward\u001b[0;34m(t_outputs, *args, **kwargs)\u001b[0m\n\u001b[1;32m    821\u001b[0m     unregister_hooks \u001b[38;5;241m=\u001b[39m _register_logging_hooks_on_whole_graph(t_outputs)\n\u001b[1;32m    822\u001b[0m \u001b[38;5;28;01mtry\u001b[39;00m:\n\u001b[0;32m--> 823\u001b[0m     \u001b[38;5;28;01mreturn\u001b[39;00m \u001b[43mVariable\u001b[49m\u001b[38;5;241;43m.\u001b[39;49m\u001b[43m_execution_engine\u001b[49m\u001b[38;5;241;43m.\u001b[39;49m\u001b[43mrun_backward\u001b[49m\u001b[43m(\u001b[49m\u001b[43m  \u001b[49m\u001b[38;5;66;43;03m# Calls into the C++ engine to run the backward pass\u001b[39;49;00m\n\u001b[1;32m    824\u001b[0m \u001b[43m        \u001b[49m\u001b[43mt_outputs\u001b[49m\u001b[43m,\u001b[49m\u001b[43m \u001b[49m\u001b[38;5;241;43m*\u001b[39;49m\u001b[43margs\u001b[49m\u001b[43m,\u001b[49m\u001b[43m \u001b[49m\u001b[38;5;241;43m*\u001b[39;49m\u001b[38;5;241;43m*\u001b[39;49m\u001b[43mkwargs\u001b[49m\n\u001b[1;32m    825\u001b[0m \u001b[43m    \u001b[49m\u001b[43m)\u001b[49m  \u001b[38;5;66;03m# Calls into the C++ engine to run the backward pass\u001b[39;00m\n\u001b[1;32m    826\u001b[0m \u001b[38;5;28;01mfinally\u001b[39;00m:\n\u001b[1;32m    827\u001b[0m     \u001b[38;5;28;01mif\u001b[39;00m attach_logging_hooks:\n",
      "\u001b[0;31mKeyboardInterrupt\u001b[0m: "
     ]
    }
   ],
   "source": [
    "writer = SummaryWriter(log_dir=path_config.distillation_logs+f\"/distillat_{distillation_config.pruning_method}_{distillation_config.target_routed_expert}a{distillation_config.target_active_expert}/layer_{layer_idx}\")\n",
    "\n",
    "os.makedirs(path_config.moe_states, exist_ok=True)\n",
    "os.makedirs(path_config.moe_states+f\"/distillat_{distillation_config.target_routed_expert}a{distillation_config.target_active_expert}\", exist_ok=True)\n",
    "export_path=path_config.moe_states+f\"/distillat_{distillation_config.pruning_method}_{distillation_config.target_routed_expert}a{distillation_config.target_active_expert}/layer_{layer_idx}\"\n",
    "\n",
    "distillation_config.learning_rate=4e-4\n",
    "distillation_config.end_factor=0.01\n",
    "distillation_config.gradient_accumulation_steps=1\n",
    "n_epochs = distillation_config.n_epochs\n",
    "\n",
    "optimizer = AdEMAMix(\n",
    "    distilled_mlp.parameters(),\n",
    "    lr=distillation_config.learning_rate,\n",
    "    betas=(0.7, 0.999, 0.9999),\n",
    "    alpha=5\n",
    ")\n",
    "\n",
    "eval_batches = distillation_config.eval_batches\n",
    "\n",
    "criterion = torch.nn.functional.smooth_l1_loss\n",
    "\n",
    "train_batches = len(os.listdir(os.path.join(path_config.expert_states, f\"layer_{layer_idx}\"))) - distillation_config.eval_batches\n",
    "\n",
    "scheduler = WarmupCosineAnnealingLR(\n",
    "    optimizer,\n",
    "    warmup_steps=distillation_config.gradient_accumulation_steps * 0, ## warmup for 32 virtual steps\n",
    "    total_steps=train_batches * n_epochs ,\n",
    "    min_lr=distillation_config.learning_rate * distillation_config.end_factor\n",
    ")\n",
    "\n",
    "patience = 2  # Number of epochs to wait for improvement\n",
    "margin = 1e-4  # Minimum improvement required\n",
    "best_loss = float('inf')\n",
    "patience_counter = 0\n",
    "\n",
    "# distilled_mlp=torch.compile(distilled_mlp)\n",
    "\n",
    "# Training and evaluation loop\n",
    "for epoch in range(n_epochs):\n",
    "    distilled_mlp.train()\n",
    "    progress_bar = tqdm(range(train_batches), desc=f\"Calibrating merged expert, epoch {epoch}\")\n",
    "    for batch_idx in progress_bar:\n",
    "        with torch.amp.autocast(device):\n",
    "            hidden_states = load_quant(os.path.join(path_config.expert_states, f\"layer_{layer_idx}\", f\"batch_{batch_idx}\")).to(device, dtype=torch.bfloat16)[:, distillation_config.skip_first_tokens:]\n",
    "            outputs = load_quant(os.path.join(path_config.intermediate_states, f\"layer_{layer_idx}\", f\"batch_{batch_idx}\")).to(device, dtype=torch.bfloat16)[:, distillation_config.skip_first_tokens:]\n",
    "\n",
    "            residual = hidden_states\n",
    "            hidden_states = layer_norm(hidden_states)\n",
    "\n",
    "            pred = distilled_mlp(hidden_states)\n",
    "            \n",
    "            pred = pred + residual\n",
    "            \n",
    "            loss = criterion(pred, outputs)\n",
    "            \n",
    "        loss.backward()\n",
    "        if (epoch * train_batches + batch_idx + 1) % distillation_config.gradient_accumulation_steps == 0:\n",
    "            optimizer.step()\n",
    "            optimizer.zero_grad()\n",
    "\n",
    "        # Log the training loss\n",
    "        scheduler.step()\n",
    "        writer.add_scalar('Loss/train', loss.item(), epoch * train_batches + batch_idx)\n",
    "\n",
    "        progress_bar.set_postfix(loss=loss.item())\n",
    "\n",
    "    # Evaluation phase at the end of each epoch\n",
    "    distilled_mlp.train()\n",
    "    eval_loss = 0\n",
    "    \n",
    "    with torch.no_grad():\n",
    "        for batch_idx in range(train_batches, train_batches + distillation_config.eval_batches):\n",
    "            hidden_states = load_quant(os.path.join(path_config.expert_states, f\"layer_{layer_idx}\", f\"batch_{batch_idx}\")).to(device, dtype=torch.bfloat16)[:, distillation_config.skip_first_tokens:]\n",
    "            outputs = load_quant(os.path.join(path_config.intermediate_states, f\"layer_{layer_idx}\", f\"batch_{batch_idx}\")).to(device, dtype=torch.bfloat16)[:, distillation_config.skip_first_tokens:]\n",
    "\n",
    "            residual = hidden_states\n",
    "            hidden_states = layer_norm(hidden_states)\n",
    "\n",
    "            pred = distilled_mlp(hidden_states)\n",
    "            \n",
    "            pred = pred + residual\n",
    "\n",
    "            loss = criterion(pred, outputs)\n",
    "            eval_loss += loss.item()\n",
    "\n",
    "    eval_loss /= eval_batches\n",
    "    writer.add_scalar('Loss/eval', eval_loss, epoch)\n",
    "    print(f\"Epoch {epoch + 1}/{n_epochs}, Evaluation Loss: {eval_loss}\")\n",
    "\n",
    "    if best_loss - eval_loss > margin:\n",
    "        best_loss = eval_loss\n",
    "        patience_counter = 0\n",
    "    else:\n",
    "        patience_counter += 1\n",
    "\n",
    "    if patience_counter >= patience:\n",
    "        print(f\"Early stopping triggered after epoch {epoch + 1}\")\n",
    "        break\n",
    "\n",
    "writer.close()\n"
   ]
  },
  {
   "cell_type": "markdown",
   "id": "cacec3bb-bfbc-42a8-8d41-ead6d5793bb6",
   "metadata": {},
   "source": [
    "## Unmount adapter"
   ]
  },
  {
   "cell_type": "code",
   "execution_count": null,
   "id": "7f206138-6a5a-4382-8397-7651f68a8077",
   "metadata": {},
   "outputs": [],
   "source": [
    "from peft import AutoPeftModelForCausalLM\n",
    "\n",
    "model=AutoPeftModelForCausalLM.from_pretrained(\n",
    "    healed_name,\n",
    "    device_map='cpu',\n",
    "    attn_implementation=\"flash_attention_2\",\n",
    "    torch_dtype=torch.bfloat16,\n",
    "    trust_remote_code=True,\n",
    ")\n",
    "\n",
    "model = model.merge_and_unload()\n",
    "\n",
    "final_path=\"/home/golympie/ai-toolbox/pruned_models/\"\n",
    "final_name = os.path.join(final_path, model_name+f\"_pruned_{distillation_config.pruning_method}_{distillation_config.target_routed_expert}a{distillation_config.target_active_expert}\")\n",
    "model.save_pretrained(final_name)\n",
    "tokenizer.save_pretrained(final_name)"
   ]
  },
  {
   "cell_type": "code",
   "execution_count": null,
   "id": "6e7e1f50-e79e-482c-beb5-00e5956fbbbe",
   "metadata": {},
   "outputs": [],
   "source": []
  },
  {
   "cell_type": "code",
   "execution_count": null,
   "id": "2b10782f-db3f-4364-8b15-5c70accfa789",
   "metadata": {},
   "outputs": [],
   "source": [
    "for name, module in tqdm(distilled_mlp.named_modules()):\n",
    "    if isinstance(module, lora.Linear):\n",
    "        module.merge()\n",
    "        \n",
    "        rsetattr(\n",
    "            distilled_mlp,\n",
    "            name,\n",
    "            module.base_layer\n",
    "        )"
   ]
  },
  {
   "cell_type": "code",
   "execution_count": null,
   "id": "bfa5d3be-557a-4793-8f3f-b07f77253dc7",
   "metadata": {},
   "outputs": [],
   "source": [
    "for name, module in tqdm(distilled_mlp.named_modules()):\n",
    "    if isinstance(module, DoRAAdapter):\n",
    "        rsetattr(distilled_mlp, name, module.merge_and_unload())"
   ]
  },
  {
   "cell_type": "code",
   "execution_count": null,
   "id": "9b920926-2f8e-4b52-a83e-b332ba6d4ffc",
   "metadata": {},
   "outputs": [],
   "source": [
    "distilled_mlp"
   ]
  },
  {
   "cell_type": "code",
   "execution_count": null,
   "id": "b900d0d6-8114-483c-93f6-ceec64512e6c",
   "metadata": {},
   "outputs": [],
   "source": [
    "torch.save(distilled_mlp.state_dict(), export_path)"
   ]
  },
  {
   "cell_type": "code",
   "execution_count": null,
   "id": "86d9d054-1f5f-4091-96bd-ce20fdd77e00",
   "metadata": {},
   "outputs": [],
   "source": []
  }
 ],
 "metadata": {
  "kernelspec": {
   "display_name": "Python 3 (ipykernel)",
   "language": "python",
   "name": "python3"
  },
  "language_info": {
   "codemirror_mode": {
    "name": "ipython",
    "version": 3
   },
   "file_extension": ".py",
   "mimetype": "text/x-python",
   "name": "python",
   "nbconvert_exporter": "python",
   "pygments_lexer": "ipython3",
   "version": "3.11.9"
  }
 },
 "nbformat": 4,
 "nbformat_minor": 5
}
