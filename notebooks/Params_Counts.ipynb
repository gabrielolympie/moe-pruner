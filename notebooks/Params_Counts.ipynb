{
 "cells": [
  {
   "cell_type": "code",
   "execution_count": 12,
   "id": "d1c7cd9f-b1a4-4fd7-9ab9-62246bfac152",
   "metadata": {},
   "outputs": [],
   "source": [
    "def calc_lora_weight(rank):\n",
    "    num_hidden_layers=61\n",
    "    first_k_dense_replace = 3\n",
    "    num_moe_layer = num_hidden_layers - first_k_dense_replace\n",
    "    \n",
    "    hidden_size=7168\n",
    "    intermediate_size=18432\n",
    "    moe_intermediate_size=2048\n",
    "    \n",
    "    n_routed_experts=256\n",
    "    num_heads  = 128\n",
    "    q_lora_rank = 1536\n",
    "    qk_nope_head_dim = 128\n",
    "    qk_rope_head_dim = 64\n",
    "    kv_lora_rank = 512\n",
    "    v_head_dim=128\n",
    "    \n",
    "    n_shared_experts=1\n",
    "    \n",
    "    vocab_size = 129280\n",
    "    \n",
    "    gate_size = n_routed_experts * hidden_size\n",
    "\n",
    "    moe_mlp_weights = 3 * 2 * rank * (hidden_size + moe_intermediate_size)\n",
    "    moe_total_weight = n_routed_experts * moe_mlp_weights\n",
    "    total_expert_weight = moe_total_weight * num_moe_layer\n",
    "    return int(round(total_expert_weight/1e9,0))\n",
    "\n",
    "def calc_num_parameters(\n",
    "    n_routed_experts,\n",
    "    rank=8\n",
    "):\n",
    "    num_hidden_layers=61\n",
    "    first_k_dense_replace = 3\n",
    "    num_moe_layer = num_hidden_layers - first_k_dense_replace\n",
    "    \n",
    "    hidden_size=7168\n",
    "    intermediate_size=18432\n",
    "    moe_intermediate_size=2048\n",
    "    \n",
    "    \n",
    "    num_heads  = 128\n",
    "    q_lora_rank = 1536\n",
    "    qk_nope_head_dim = 128\n",
    "    qk_rope_head_dim = 64\n",
    "    kv_lora_rank = 512\n",
    "    v_head_dim=128\n",
    "    \n",
    "    n_shared_experts=1\n",
    "    \n",
    "    vocab_size = 129280\n",
    "    \n",
    "    gate_size = n_routed_experts * hidden_size\n",
    "    \n",
    "    mlp_weights = 3 * hidden_size * intermediate_size\n",
    "    moe_mlp_weights = 3 * hidden_size * moe_intermediate_size\n",
    "    \n",
    "    moe_total_weight = n_routed_experts * moe_mlp_weights\n",
    "    moe_active_weight = num_experts_per_tok * moe_mlp_weights\n",
    "    \n",
    "    q_head_dim = qk_nope_head_dim + qk_rope_head_dim\n",
    "    q_a_proj = hidden_size * q_lora_rank + q_lora_rank * q_head_dim\n",
    "    kv_a_proj_with_mqa = hidden_size * (kv_lora_rank  + qk_rope_head_dim) + kv_lora_rank * (num_heads * (q_head_dim - qk_rope_head_dim  + v_head_dim))\n",
    "    o_proj_weight = num_heads * v_head_dim * hidden_size\n",
    "    attention_weight = q_a_proj + 2 * kv_a_proj_with_mqa + o_proj_weight\n",
    "    \n",
    "    base_weight_per_moe_layer = attention_weight + n_shared_experts * moe_mlp_weights + gate_size\n",
    "    base_weight_per_mlp_layer = attention_weight + mlp_weights\n",
    "    \n",
    "    base_model_weight = base_weight_per_moe_layer * num_moe_layer + base_weight_per_mlp_layer * first_k_dense_replace + 2 * vocab_size * hidden_size\n",
    "    \n",
    "    total_expert_weight = moe_total_weight * num_moe_layer\n",
    "    active_expert_weight = moe_active_weight * num_moe_layer\n",
    "    \n",
    "    active_model_weight = active_expert_weight + num_moe_layer + base_model_weight\n",
    "    total_model_weight = total_expert_weight + num_moe_layer + base_model_weight\n",
    "\n",
    "    fused_lora_weight = calc_lora_weight(rank)\n",
    "    \n",
    "    print(f\"{n_routed_experts} => {int(round(total_model_weight/1e9,0))}B @ {fused_lora_weight}B parameters\")"
   ]
  },
  {
   "cell_type": "code",
   "execution_count": 13,
   "id": "389235eb-9725-42b5-b656-4e255b5a2aba",
   "metadata": {},
   "outputs": [
    {
     "data": {
      "text/plain": [
       "7"
      ]
     },
     "execution_count": 13,
     "metadata": {},
     "output_type": "execute_result"
    }
   ],
   "source": [
    "calc_lora_weight(8)"
   ]
  },
  {
   "cell_type": "code",
   "execution_count": 16,
   "id": "5e9d7e13-a622-4f71-a0f4-bd8eefcfc6ae",
   "metadata": {},
   "outputs": [
    {
     "name": "stdout",
     "output_type": "stream",
     "text": [
      "8 => 36B @ 3B parameters\n",
      "8 => 36B @ 7B parameters\n",
      "8 => 36B @ 13B parameters\n",
      "4 => 26B @ 3B parameters\n",
      "4 => 26B @ 7B parameters\n",
      "4 => 26B @ 13B parameters\n",
      "2 => 21B @ 3B parameters\n",
      "2 => 21B @ 7B parameters\n",
      "2 => 21B @ 13B parameters\n"
     ]
    }
   ],
   "source": [
    "p = [\n",
    "    (8,4),\n",
    "    (8,8),\n",
    "    (8,16),\n",
    "    (4,4),\n",
    "    (4,8),\n",
    "    (4,16),\n",
    "    (2,4),\n",
    "    (2,8),\n",
    "    (2,16),\n",
    "]\n",
    "\n",
    "for elt in p:\n",
    "    calc_num_parameters(*elt)"
   ]
  },
  {
   "cell_type": "code",
   "execution_count": null,
   "id": "ea134776-edf1-4c5e-8b8f-446568ee4967",
   "metadata": {},
   "outputs": [],
   "source": []
  }
 ],
 "metadata": {
  "kernelspec": {
   "display_name": "Python 3 (ipykernel)",
   "language": "python",
   "name": "python3"
  },
  "language_info": {
   "codemirror_mode": {
    "name": "ipython",
    "version": 3
   },
   "file_extension": ".py",
   "mimetype": "text/x-python",
   "name": "python",
   "nbconvert_exporter": "python",
   "pygments_lexer": "ipython3",
   "version": "3.11.9"
  }
 },
 "nbformat": 4,
 "nbformat_minor": 5
}
