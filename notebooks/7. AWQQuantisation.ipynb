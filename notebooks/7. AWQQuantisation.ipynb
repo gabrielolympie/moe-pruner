{
 "cells": [
  {
   "cell_type": "code",
   "execution_count": null,
   "id": "1e34002d-92c5-4992-8ff0-19eb0ea4a649",
   "metadata": {},
   "outputs": [],
   "source": [
    "%load_ext autoreload\n",
    "%autoreload 2\n",
    "\n",
    "import sys\n",
    "sys.path.append('..')"
   ]
  },
  {
   "cell_type": "code",
   "execution_count": null,
   "id": "780e264d-b6c6-4834-8dba-a15e6ebbaea1",
   "metadata": {},
   "outputs": [],
   "source": [
    "from transformers import AutoModelForCausalLM\n",
    "from utils.torch_utils import count_parameters\n",
    "import torch\n",
    "\n",
    "model_path=\"/home/golympie/ai-toolbox/pruned_models/deepseek_coder_v2_lite_instruct_fused_16/\"\n",
    "\n",
    "model=AutoModelForCausalLM.from_pretrained(\n",
    "    model_path, \n",
    "    device_map='cpu',\n",
    "    trust_remote_code=True\n",
    ")\n",
    "count_parameters(model)\n",
    "\n",
    "# Deepseek-Coder-v2-Lite-Instruct_Fused_2B"
   ]
  },
  {
   "cell_type": "markdown",
   "id": "e97d2b76-73fe-4f3d-b369-25ba562157ce",
   "metadata": {},
   "source": [
    "sizes\n",
    "\n",
    "2 = 2B\n",
    "\n",
    "4 = 2.3B\n",
    "\n",
    "8 = 3B\n",
    "\n",
    "16 = 5B"
   ]
  },
  {
   "cell_type": "code",
   "execution_count": null,
   "id": "22ac06aa",
   "metadata": {},
   "outputs": [],
   "source": [
    "Deepseek-Coder-V2-Lite-Instruct-Fused-2E-2B-preview-Unhealed\n",
    "Deepseek-Coder-V2-Lite-Instruct-Fused-4E-2_5B-preview-Unhealed\n",
    "Deepseek-Coder-V2-Lite-Instruct-Fused-8E-3B-preview-Unhealed\n",
    "Deepseek-Coder-V2-Lite-Instruct-Fused-16E-5B-preview-Unhealed"
   ]
  },
  {
   "cell_type": "code",
   "execution_count": null,
   "id": "8cfce656-eb23-477a-bce6-03a59fdcd845",
   "metadata": {},
   "outputs": [],
   "source": [
    "help(model.quantize)"
   ]
  },
  {
   "cell_type": "code",
   "execution_count": null,
   "id": "5745581d-cb5e-4ee9-805a-1c2110da8815",
   "metadata": {},
   "outputs": [],
   "source": [
    "from awq import AutoAWQForCausalLM\n",
    "from transformers import AutoTokenizer\n",
    "import torch\n",
    "\n",
    "model_path = \"/home/golympie/ai-toolbox/pruned_models/deepseek_coder_v2_lite_instruct_fused_16/\"\n",
    "quant_path = model_path + \"-AWQ\"\n",
    "\n",
    "quant_config = {\n",
    "    \"zero_point\": True,\n",
    "    \"q_group_size\": 64,\n",
    "    \"w_bit\": 4,\n",
    "    \"version\": \"GEMM\",\n",
    "    # \"max_calib_seq_len\": 256,\n",
    "    # \"n_parallel_calib_samples\":4\n",
    "}\n",
    "\n",
    "\n",
    "\n",
    "# Load model\n",
    "model = AutoAWQForCausalLM.from_pretrained(model_path, device_map=\"cuda:1\")\n",
    "tokenizer = AutoTokenizer.from_pretrained(model_path, trust_remote_code=True)\n",
    "\n",
    "# Quantize\n",
    "model.quantize(\n",
    "    tokenizer, \n",
    "    quant_config=quant_config,\n",
    "    max_calib_seq_len=256,\n",
    "    n_parallel_calib_samples=4\n",
    ")\n",
    "\n",
    "# Save quantized model\n",
    "model.save_quantized(quant_path)\n",
    "tokenizer.save_pretrained(quant_path)\n",
    "\n",
    "print(f'Model is quantized and saved at \"{quant_path}\"')"
   ]
  }
 ],
 "metadata": {
  "kernelspec": {
   "display_name": "Python 3 (ipykernel)",
   "language": "python",
   "name": "python3"
  },
  "language_info": {
   "codemirror_mode": {
    "name": "ipython",
    "version": 3
   },
   "file_extension": ".py",
   "mimetype": "text/x-python",
   "name": "python",
   "nbconvert_exporter": "python",
   "pygments_lexer": "ipython3",
   "version": "3.11.9"
  }
 },
 "nbformat": 4,
 "nbformat_minor": 5
}
