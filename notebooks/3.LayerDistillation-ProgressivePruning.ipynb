{
 "cells": [
  {
   "cell_type": "code",
   "execution_count": null,
   "id": "ebe114b5-6bb6-447b-b4ed-fe0a2bb0e584",
   "metadata": {},
   "outputs": [],
   "source": [
    "%load_ext autoreload\n",
    "%autoreload 2\n",
    "\n",
    "import sys\n",
    "sys.path.append('..')"
   ]
  },
  {
   "cell_type": "code",
   "execution_count": null,
   "id": "6d5caac1-3072-4b94-9696-f1e09c68737a",
   "metadata": {},
   "outputs": [],
   "source": [
    "from transformers import AutoTokenizer, AutoModelForCausalLM\n",
    "\n",
    "from torch.utils.tensorboard import SummaryWriter\n",
    "\n",
    "from accelerate import init_empty_weights\n",
    "from tqdm.auto import tqdm\n",
    "from copy import deepcopy\n",
    "import numpy as np\n",
    "import argparse\n",
    "import torch\n",
    "import json\n",
    "import os\n",
    "\n",
    "from utils.ademamix import AdEMAMix\n",
    "from utils.config_utils import PathConfig, DistillationParams\n",
    "\n",
    "from utils.adapters import DoRAAdapter\n",
    "\n",
    "from utils.experts_merge_utils import (\n",
    "    dequantize_GEMM,\n",
    "    prepare_distillat_topk,\n",
    "    prepare_distillat_state_cl,\n",
    "    prepare_distillat_act_cl,\n",
    "    prepare_moe_for_distillation,\n",
    "    halve_distilled_mlp,\n",
    "    merge_and_unload,\n",
    "    calibrated_dequant,\n",
    ")\n",
    "\n",
    "from utils.torch_utils import (\n",
    "    load_quant,\n",
    "    rsetattr,\n",
    "    destruct_module_optimized,\n",
    "    memory_cleanup,\n",
    "    load_weights,\n",
    "    WarmupCosineAnnealingLR\n",
    ")\n",
    "\n",
    "torch.set_float32_matmul_precision('medium')"
   ]
  },
  {
   "cell_type": "code",
   "execution_count": null,
   "id": "d878d480-741d-4eb2-8e35-eb39762f4396",
   "metadata": {},
   "outputs": [],
   "source": [
    "device = \"cuda:1\"\n",
    "model_name = \"../deepseek_coder_v2_lite_instruct_awq\"\n",
    "\n",
    "n_batch=16\n",
    "batch_size=8\n",
    "max_length=512\n",
    "\n",
    "device=\"cuda:0\"\n",
    "\n",
    "path_config = PathConfig(\n",
    "    model_name = model_name,\n",
    "    intermediate_states = \"../data/intermediate_states\",\n",
    "    expert_states = \"../data/expert_states\",\n",
    "    expert_activations = \"../data/expert_activations\",\n",
    "    distillation_logs = \"distillation_logs\",\n",
    "    moe_states=\"moe_states\"\n",
    ")\n",
    "\n",
    "distillation_config = DistillationParams(\n",
    "    n_epochs= 1,\n",
    "    target_routed_expert = 16,\n",
    "    target_active_expert = 4,\n",
    "    eval_batches=16,\n",
    "    gradient_accumulation_steps= 4,\n",
    "    learning_rate= 8e-4,\n",
    "    end_factor= 0.2,\n",
    "    calibrate_merge=False,\n",
    "    skip_first_tokens=32, ## useful to avoid tuning on early tokens that have less informations\n",
    "    pruning_method=\"topk\", # topk , act_cl, state_cl\n",
    "    dora_rank=16,\n",
    ")"
   ]
  },
  {
   "cell_type": "markdown",
   "id": "c57971d0-ff4d-4382-b36b-c1ff31f82961",
   "metadata": {},
   "source": [
    "## Instantiate empty model"
   ]
  },
  {
   "cell_type": "code",
   "execution_count": null,
   "id": "366e49cd-05f3-4da6-b24a-cee2016a622f",
   "metadata": {
    "scrolled": true
   },
   "outputs": [],
   "source": [
    "with open(f\"{model_name}/model.safetensors.index.json\", \"r\") as f:\n",
    "    weight_map = json.load(f)[\"weight_map\"]\n",
    "\n",
    "with init_empty_weights():\n",
    "    model = AutoModelForCausalLM.from_pretrained(\n",
    "        model_name,\n",
    "        trust_remote_code=True,\n",
    "        torch_dtype=torch.bfloat16,\n",
    "        attn_implementation=\"flash_attention_2\",\n",
    "        low_cpu_mem_usage=True,\n",
    "    )\n",
    "\n",
    "for name, parameter in model.named_parameters():\n",
    "    parameter.requires_grad = False\n",
    "\n",
    "model.train()\n",
    "destruct_module_optimized(model)\n",
    "memory_cleanup()"
   ]
  },
  {
   "cell_type": "markdown",
   "id": "0beed900-0a4a-43eb-acad-1ec401e921a0",
   "metadata": {},
   "source": [
    "## Load layer weights"
   ]
  },
  {
   "cell_type": "code",
   "execution_count": null,
   "id": "5ad947e1-1ed4-47ed-9d38-3ea3acc0b0d5",
   "metadata": {},
   "outputs": [],
   "source": [
    "layer_idx=22\n",
    "\n",
    "model.model.layers[layer_idx].to_empty(device=device)\n",
    "target_modules=[f\".layers.{layer_idx}.\"]\n",
    "model=load_weights(model, model_name, weight_map, target_modules, device)"
   ]
  },
  {
   "cell_type": "code",
   "execution_count": null,
   "id": "dafd3665-98db-4dff-83f7-47023fd670e8",
   "metadata": {
    "scrolled": true
   },
   "outputs": [],
   "source": [
    "distilled_mlp=deepcopy(model.model.layers[layer_idx].mlp).to(device)\n",
    "layer_norm=deepcopy(model.model.layers[layer_idx].post_attention_layernorm).to(device, dtype=torch.bfloat16)\n",
    "\n",
    "for i in range(len(distilled_mlp.experts)):\n",
    "    distilled_mlp.experts[i] = calibrated_dequant(distilled_mlp.experts[i] , layer_norm, path_config, layer_idx)\n",
    "\n",
    "distilled_mlp.gate = distilled_mlp.gate.to(torch.bfloat16)\n",
    "\n",
    "# destruct_module_optimized(model)\n",
    "# memory_cleanup()\n",
    "\n",
    "# distilled_mlp=halve_distilled_mlp(distilled_mlp, layer_norm, distillation_config, path_config, layer_idx, device)\n",
    "# distilled_mlp=halve_distilled_mlp(distilled_mlp, layer_norm, distillation_config, path_config, layer_idx, device)"
   ]
  },
  {
   "cell_type": "markdown",
   "id": "083ceddd-8a23-4cf6-9ebc-c108184231d2",
   "metadata": {},
   "source": [
    "## Prepare Model for finetuning"
   ]
  },
  {
   "cell_type": "code",
   "execution_count": null,
   "id": "61de2e1d-76be-4f46-8812-6f8d342d1206",
   "metadata": {
    "scrolled": true
   },
   "outputs": [],
   "source": [
    "from utils.grokfast import gradfilter_ema\n",
    "\n",
    "writer = SummaryWriter(log_dir=path_config.distillation_logs+f\"/distillat_{distillation_config.pruning_method}_{distillation_config.target_routed_expert}a{distillation_config.target_active_expert}/layer_{layer_idx}\")\n",
    "\n",
    "os.makedirs(path_config.moe_states, exist_ok=True)\n",
    "\n",
    "distillation_config.n_epochs=1\n",
    "distillation_config.learning_rate=1e-4\n",
    "distillation_config.end_factor=0.1\n",
    "distillation_config.gradient_accumulation_steps=1\n",
    "\n",
    "distilled_mlp, optimizer, scheduler, criterion = prepare_moe_for_distillation(distilled_mlp, distillation_config, path_config, layer_idx, device, dtype=torch.bfloat16)\n",
    "train_batches = len(os.listdir(os.path.join(path_config.expert_states, f\"layer_{layer_idx}\"))) - distillation_config.eval_batches\n",
    "\n",
    "if distilled_mlp.config.num_experts_per_tok != distillation_config.target_active_expert:\n",
    "    print('updating active')\n",
    "    distilled_mlp.config.num_experts_per_tok=distillation_config.target_active_expert\n",
    "    distilled_mlp.num_experts_per_tok=distillation_config.target_active_expert\n",
    "    \n",
    "    distilled_mlp.gate.config.num_experts_per_tok=distillation_config.target_active_expert\n",
    "    distilled_mlp.gate.top_k=distillation_config.target_active_expert\n",
    "\n",
    "halve_every = 128\n",
    "grads = None\n",
    "eval_batches = distillation_config.eval_batches\n",
    "\n",
    "patience = 2  # Number of epochs to wait for improvement\n",
    "margin = 1e-4  # Minimum improvement required\n",
    "best_loss = float('inf')\n",
    "patience_counter = 0\n",
    "\n",
    "# Training and evaluation loop\n",
    "for epoch in range(distillation_config.n_epochs):\n",
    "    distilled_mlp.train()\n",
    "    # optimizer.train()\n",
    "    progress_bar = tqdm(range(train_batches), desc=f\"Calibrating merged expert, epoch {epoch}\")\n",
    "    \n",
    "    for batch_idx in progress_bar:\n",
    "        if (epoch * train_batches + batch_idx + 1) % halve_every == 0:\n",
    "            if len(distilled_mlp.experts) > distillation_config.target_routed_expert:\n",
    "                print('halving')\n",
    "                distilled_mlp=merge_and_unload(distilled_mlp)\n",
    "                \n",
    "                distilled_mlp=halve_distilled_mlp(distilled_mlp, layer_norm, distillation_config, path_config, layer_idx, device)\n",
    "                distilled_mlp, optimizer, scheduler, criterion = prepare_moe_for_distillation(distilled_mlp, distillation_config, path_config, layer_idx, device, dtype=torch.bfloat16)\n",
    "                # optimizer.train()\n",
    "                \n",
    "        with torch.amp.autocast(device):\n",
    "            hidden_states = load_quant(os.path.join(path_config.expert_states, f\"layer_{layer_idx}\", f\"batch_{batch_idx}\")).to(device, dtype=torch.bfloat16)[:, distillation_config.skip_first_tokens:]\n",
    "            outputs = load_quant(os.path.join(path_config.intermediate_states, f\"layer_{layer_idx}\", f\"batch_{batch_idx}\")).to(device, dtype=torch.bfloat16)[:, distillation_config.skip_first_tokens:]\n",
    "\n",
    "            residual = hidden_states\n",
    "            hidden_states = layer_norm(hidden_states)\n",
    "\n",
    "            pred = distilled_mlp(hidden_states)\n",
    "            \n",
    "            pred = pred + residual\n",
    "            \n",
    "            loss = criterion(pred, outputs)\n",
    "            \n",
    "        loss.backward()\n",
    "        if (epoch * train_batches + batch_idx + 1) % distillation_config.gradient_accumulation_steps == 0:\n",
    "            # grads = gradfilter_ema(model, grads=grads, alpha=0.95, lamb=5)\n",
    "            optimizer.step()\n",
    "            optimizer.zero_grad()\n",
    "\n",
    "        # Log the training loss\n",
    "        if scheduler is not None:\n",
    "            scheduler.step()\n",
    "        writer.add_scalar('Loss/train', loss.item(), epoch * train_batches + batch_idx)\n",
    "\n",
    "        progress_bar.set_postfix(loss=loss.item())\n",
    "\n",
    "    # Evaluation phase at the end of each epoch\n",
    "    distilled_mlp.train()\n",
    "    # optimizer.eval()\n",
    "    eval_loss = 0\n",
    "    \n",
    "    with torch.no_grad():\n",
    "        for batch_idx in range(train_batches, train_batches + distillation_config.eval_batches):\n",
    "            hidden_states = load_quant(os.path.join(path_config.expert_states, f\"layer_{layer_idx}\", f\"batch_{batch_idx}\")).to(device, dtype=torch.bfloat16)[:, distillation_config.skip_first_tokens:]\n",
    "            outputs = load_quant(os.path.join(path_config.intermediate_states, f\"layer_{layer_idx}\", f\"batch_{batch_idx}\")).to(device, dtype=torch.bfloat16)[:, distillation_config.skip_first_tokens:]\n",
    "\n",
    "            residual = hidden_states\n",
    "            hidden_states = layer_norm(hidden_states)\n",
    "\n",
    "            pred = distilled_mlp(hidden_states)\n",
    "            \n",
    "            pred = pred + residual\n",
    "            \n",
    "            loss = criterion(pred, outputs)\n",
    "            \n",
    "            eval_loss += loss.item()\n",
    "\n",
    "    eval_loss /= eval_batches\n",
    "    writer.add_scalar('Loss/eval', eval_loss, epoch)\n",
    "    print(f\"Epoch {epoch + 1}/{distillation_config.n_epochs}, Evaluation Loss: {eval_loss}\")\n",
    "\n",
    "    if best_loss - eval_loss > margin:\n",
    "        best_loss = eval_loss\n",
    "        patience_counter = 0\n",
    "    else:\n",
    "        patience_counter += 1\n",
    "\n",
    "    if patience_counter >= patience:\n",
    "        print(f\"Early stopping triggered after epoch {epoch + 1}\")\n",
    "        break\n",
    "\n",
    "writer.close()"
   ]
  },
  {
   "cell_type": "markdown",
   "id": "cacec3bb-bfbc-42a8-8d41-ead6d5793bb6",
   "metadata": {},
   "source": [
    "## Unmount adapter"
   ]
  },
  {
   "cell_type": "code",
   "execution_count": null,
   "id": "bfe27530-35a7-4602-9bd8-9efef4f91d4f",
   "metadata": {},
   "outputs": [],
   "source": [
    "prune = 0.08564127795398235\n",
    "slerp 0.8 = 0.09016684349626303\n",
    "slerp 0.5 = 0.09877106221392751\n",
    "slerp 0.98 = 0.084571722894907\n",
    "slerp 0.05 = 0.08477236004546285\n",
    "sce = 0.0845571905374527"
   ]
  },
  {
   "cell_type": "code",
   "execution_count": null,
   "id": "bfa5d3be-557a-4793-8f3f-b07f77253dc7",
   "metadata": {},
   "outputs": [],
   "source": [
    "distilled_mlp=merge_and_unload(distilled_mlp)"
   ]
  },
  {
   "cell_type": "code",
   "execution_count": null,
   "id": "9b920926-2f8e-4b52-a83e-b332ba6d4ffc",
   "metadata": {},
   "outputs": [],
   "source": [
    "distilled_mlp"
   ]
  },
  {
   "cell_type": "code",
   "execution_count": null,
   "id": "b900d0d6-8114-483c-93f6-ceec64512e6c",
   "metadata": {},
   "outputs": [],
   "source": [
    "torch.save(distilled_mlp.state_dict(), export_path)"
   ]
  },
  {
   "cell_type": "code",
   "execution_count": null,
   "id": "86d9d054-1f5f-4091-96bd-ce20fdd77e00",
   "metadata": {},
   "outputs": [],
   "source": []
  }
 ],
 "metadata": {
  "kernelspec": {
   "display_name": "Python 3 (ipykernel)",
   "language": "python",
   "name": "python3"
  },
  "language_info": {
   "codemirror_mode": {
    "name": "ipython",
    "version": 3
   },
   "file_extension": ".py",
   "mimetype": "text/x-python",
   "name": "python",
   "nbconvert_exporter": "python",
   "pygments_lexer": "ipython3",
   "version": "3.11.9"
  }
 },
 "nbformat": 4,
 "nbformat_minor": 5
}
