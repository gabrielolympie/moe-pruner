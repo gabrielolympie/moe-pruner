{
 "cells": [
  {
   "cell_type": "code",
   "execution_count": null,
   "id": "ebe114b5-6bb6-447b-b4ed-fe0a2bb0e584",
   "metadata": {},
   "outputs": [],
   "source": [
    "%load_ext autoreload\n",
    "%autoreload 2\n",
    "\n",
    "import sys\n",
    "sys.path.append('..')"
   ]
  },
  {
   "cell_type": "code",
   "execution_count": null,
   "id": "6d5caac1-3072-4b94-9696-f1e09c68737a",
   "metadata": {},
   "outputs": [],
   "source": [
    "from transformers import AutoTokenizer, AutoModelForCausalLM\n",
    "\n",
    "from torch.utils.tensorboard import SummaryWriter\n",
    "\n",
    "from accelerate import init_empty_weights\n",
    "from tqdm.auto import tqdm\n",
    "from copy import deepcopy\n",
    "import numpy as np\n",
    "import argparse\n",
    "import torch\n",
    "import json\n",
    "import os\n",
    "\n",
    "from utils.ademamix import AdEMAMix\n",
    "from utils.config_utils import PathConfig, DistillationParams\n",
    "\n",
    "from utils.adapters import DoRAAdapter\n",
    "\n",
    "from utils.experts_merge_utils import (\n",
    "    dequantize_GEMM,\n",
    "    prepare_distillat_topk,\n",
    "    prepare_distillat_state_cl,\n",
    "    prepare_distillat_act_cl,\n",
    "    prepare_moe_for_distillation,\n",
    "    halve_distilled_mlp,\n",
    "    merge_and_unload,\n",
    "    calibrated_dequant,\n",
    "    build_affinity_matrix,\n",
    "    expert_clustering,\n",
    "    cooccurrence_matrix,\n",
    "    group_items_by_affinity\n",
    ")\n",
    "\n",
    "from utils.torch_utils import (\n",
    "    load_quant,\n",
    "    rsetattr,\n",
    "    destruct_module_optimized,\n",
    "    memory_cleanup,\n",
    "    load_weights,\n",
    "    WarmupCosineAnnealingLR\n",
    ")\n",
    "\n",
    "from utils.multiplex import MultiplexedMOE\n",
    "import pickle\n",
    "\n",
    "torch.set_float32_matmul_precision('medium')"
   ]
  },
  {
   "cell_type": "code",
   "execution_count": null,
   "id": "d878d480-741d-4eb2-8e35-eb39762f4396",
   "metadata": {},
   "outputs": [],
   "source": [
    "# device = \"cuda:1\"\n",
    "model_name = \"../deepseek_coder_v2_lite_instruct_awq\"\n",
    "\n",
    "n_batch=16\n",
    "batch_size=8\n",
    "max_length=512\n",
    "\n",
    "device=\"cuda:0\"\n",
    "\n",
    "path_config = PathConfig(\n",
    "    model_name = model_name,\n",
    "    intermediate_states = \"../data/intermediate_states\",\n",
    "    expert_states = \"../data/expert_states\",\n",
    "    expert_activations = \"../data/expert_activations\",\n",
    "    distillation_logs = \"distillation_logs\",\n",
    "    moe_states=\"moe_states\"\n",
    ")\n",
    "\n",
    "distillation_config = DistillationParams(\n",
    "    n_epochs= 1,\n",
    "    target_routed_expert = 2,\n",
    "    target_active_expert = 2,\n",
    "    eval_batches=16,\n",
    "    gradient_accumulation_steps= 4,\n",
    "    learning_rate= 8e-4,\n",
    "    end_factor= 0.2,\n",
    "    calibrate_merge=False,\n",
    "    skip_first_tokens=0, ## useful to avoid tuning on early tokens that have less informations\n",
    "    pruning_method=\"topk\", # topk , act_cl, state_cl\n",
    "    dora_rank=16,\n",
    ")"
   ]
  },
  {
   "cell_type": "markdown",
   "id": "c57971d0-ff4d-4382-b36b-c1ff31f82961",
   "metadata": {},
   "source": [
    "## Instantiate empty model"
   ]
  },
  {
   "cell_type": "code",
   "execution_count": null,
   "id": "366e49cd-05f3-4da6-b24a-cee2016a622f",
   "metadata": {},
   "outputs": [],
   "source": [
    "with open(f\"{model_name}/model.safetensors.index.json\", \"r\") as f:\n",
    "    weight_map = json.load(f)[\"weight_map\"]\n",
    "\n",
    "with init_empty_weights():\n",
    "    model = AutoModelForCausalLM.from_pretrained(\n",
    "        model_name,\n",
    "        trust_remote_code=True,\n",
    "        torch_dtype=torch.bfloat16,\n",
    "        attn_implementation=\"flash_attention_2\",\n",
    "        low_cpu_mem_usage=True,\n",
    "    )\n",
    "\n",
    "for name, parameter in model.named_parameters():\n",
    "    parameter.requires_grad = False\n",
    "\n",
    "model.train()\n",
    "destruct_module_optimized(model)\n",
    "memory_cleanup()"
   ]
  },
  {
   "cell_type": "markdown",
   "id": "0beed900-0a4a-43eb-acad-1ec401e921a0",
   "metadata": {},
   "source": [
    "## Load layer weights"
   ]
  },
  {
   "cell_type": "code",
   "execution_count": null,
   "id": "5ad947e1-1ed4-47ed-9d38-3ea3acc0b0d5",
   "metadata": {},
   "outputs": [],
   "source": [
    "layer_idx=22\n",
    "\n",
    "model.model.layers[layer_idx].to_empty(device=device)\n",
    "target_modules=[f\".layers.{layer_idx}.\"]\n",
    "model=load_weights(model, model_name, weight_map, target_modules, device)"
   ]
  },
  {
   "cell_type": "code",
   "execution_count": null,
   "id": "86e95f9f-2f5b-45f2-984b-037911269394",
   "metadata": {},
   "outputs": [],
   "source": [
    "distilled_mlp=deepcopy(model.model.layers[layer_idx].mlp).to(device)\n",
    "layer_norm=deepcopy(model.model.layers[layer_idx].post_attention_layernorm).to(device, dtype=torch.bfloat16)\n",
    "\n",
    "distilled_mlp.gate = distilled_mlp.gate.to(torch.bfloat16)"
   ]
  },
  {
   "cell_type": "code",
   "execution_count": null,
   "id": "d9d1c7a8-e905-4e6a-a5d2-c2b87ac2033a",
   "metadata": {},
   "outputs": [],
   "source": [
    "for param in distilled_mlp.parameters():\n",
    "    param.requires_grad=False\n",
    "    \n",
    "with open(os.path.join(path_config.expert_activations, f\"layer_{layer_idx}.pickle\"), \"rb\") as f:\n",
    "    (top_k_output, top_k_weight) = pickle.load(f)\n",
    "\n",
    "top_k_output=top_k_output.detach().to(torch.int64).cpu().numpy()\n",
    "affinity_matrix = cooccurrence_matrix(top_k_output, len(np.unique(top_k_output)))\n",
    "affinity_matrix=(affinity_matrix - affinity_matrix.min())/(affinity_matrix.max()-affinity_matrix.min())\n",
    "\n",
    "train_batches=2048\n",
    "\n",
    "group_size=affinity_matrix.shape[0] // distillation_config.target_routed_expert"
   ]
  },
  {
   "cell_type": "code",
   "execution_count": null,
   "id": "a0d6f015-3d8f-4669-9a70-ba4c409e94d4",
   "metadata": {
    "scrolled": true
   },
   "outputs": [],
   "source": [
    "lr=3e-4\n",
    "\n",
    "merge_method=\"slerp\"\n",
    "\n",
    "\n",
    "multiplex=MultiplexedMOE(distilled_mlp, distillation_config.target_routed_expert)\n",
    "multiplex.multiplex(affinity_matrix, group_size, train_batches, learning_rate=lr, device=device, merge_method=merge_method)\n",
    "multiplex=multiplex.train()\n",
    "\n",
    "writer = SummaryWriter(log_dir=f'multiplex_runs/{lr}_{merge_method}_addmask')\n",
    "\n",
    "progress_bar = tqdm(range(train_batches), desc=f\"Calibrating multiplexage {lr}\")\n",
    "for batch_idx in progress_bar:\n",
    "    hidden_states = load_quant(os.path.join(path_config.expert_states, f\"layer_{layer_idx}\", f\"batch_{batch_idx}\")).to(device, dtype=torch.bfloat16)[:, distillation_config.skip_first_tokens:]\n",
    "\n",
    "    loss = multiplex.train_step(hidden_states, layer_norm, temperature=1)\n",
    "    progress_bar.set_postfix(loss=loss.item())\n",
    "    writer.add_scalar(f'Loss/train', loss.item(), batch_idx)\n",
    "\n",
    "# Close the writer\n",
    "writer.close()\n",
    "\n",
    "hidden_states = load_quant(os.path.join(path_config.expert_states, f\"layer_{layer_idx}\", f\"batch_{0}\")).to(device, dtype=torch.bfloat16)[:, distillation_config.skip_first_tokens:]\n",
    "hidden_states = layer_norm(hidden_states)[:2]\n",
    "\n",
    "x1=multiplex(hidden_states)\n",
    "x2=multiplex.forward_origin(hidden_states)\n",
    "x3=distilled_mlp(hidden_states)\n",
    "\n",
    "print(\n",
    "    torch.nn.functional.smooth_l1_loss(x1,x2, reduction='mean'),\n",
    "    torch.nn.functional.smooth_l1_loss(x1,x3, reduction='mean'),\n",
    "    torch.nn.functional.smooth_l1_loss(x2,x3, reduction='mean')\n",
    ")"
   ]
  },
  {
   "cell_type": "code",
   "execution_count": null,
   "id": "81b18cbe-54b4-40ea-9671-0190e9219b23",
   "metadata": {},
   "outputs": [],
   "source": []
  },
  {
   "cell_type": "code",
   "execution_count": null,
   "id": "fccd3091-ede3-4f35-bda0-837f84230ff8",
   "metadata": {},
   "outputs": [],
   "source": []
  },
  {
   "cell_type": "code",
   "execution_count": null,
   "id": "f4c75e47-fa85-440c-9eae-5aee03c36319",
   "metadata": {},
   "outputs": [],
   "source": [
    "multiplex.set_ready()"
   ]
  },
  {
   "cell_type": "code",
   "execution_count": null,
   "id": "b900d0d6-8114-483c-93f6-ceec64512e6c",
   "metadata": {},
   "outputs": [],
   "source": [
    "torch.save(distilled_mlp.state_dict(), export_path)"
   ]
  },
  {
   "cell_type": "code",
   "execution_count": null,
   "id": "86d9d054-1f5f-4091-96bd-ce20fdd77e00",
   "metadata": {},
   "outputs": [],
   "source": []
  }
 ],
 "metadata": {
  "kernelspec": {
   "display_name": "Python 3 (ipykernel)",
   "language": "python",
   "name": "python3"
  },
  "language_info": {
   "codemirror_mode": {
    "name": "ipython",
    "version": 3
   },
   "file_extension": ".py",
   "mimetype": "text/x-python",
   "name": "python",
   "nbconvert_exporter": "python",
   "pygments_lexer": "ipython3",
   "version": "3.11.9"
  }
 },
 "nbformat": 4,
 "nbformat_minor": 5
}
