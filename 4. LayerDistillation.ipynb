{
 "cells": [
  {
   "cell_type": "markdown",
   "id": "d842eade-c8fd-4151-aa7c-90efbc113f3a",
   "metadata": {},
   "source": [
    "## Ressources"
   ]
  },
  {
   "cell_type": "markdown",
   "id": "85c5d3fe-04de-4a14-839b-07213c295466",
   "metadata": {},
   "source": [
    "The pipeline was optimized for the following config:\n",
    "- Storage : 2To SSD @512Mo/s\n",
    "- RAM : 128go DDR4 @3600\n",
    "- CPU : Ryzen 9 3950X 16@32 cores\n",
    "- GPU : 2x RTX 3090, aggregated 48gb DDR6X Vram\n",
    "\n",
    "Hence i can  not guarantee that it will work properly on more frugal hardware.\n",
    "Plus the GPU are not NVLink unified, so some optimisation involve manual allocation to one or the other GPU."
   ]
  },
  {
   "cell_type": "markdown",
   "id": "a2b9e98c-9fc8-41d9-9f37-3a7a8170dbdf",
   "metadata": {},
   "source": [
    "## Compute the number of parameters for different pruning size"
   ]
  },
  {
   "cell_type": "code",
   "execution_count": 1,
   "id": "18bba445-5354-47ec-9c30-32ef1d8627a1",
   "metadata": {},
   "outputs": [],
   "source": [
    "def calc_num_parameters(\n",
    "    n_routed_experts,\n",
    "    num_experts_per_tok,\n",
    "):\n",
    "    num_hidden_layers=61\n",
    "    first_k_dense_replace = 3\n",
    "    num_moe_layer = num_hidden_layers - first_k_dense_replace\n",
    "    \n",
    "    hidden_size=7168\n",
    "    intermediate_size=18432\n",
    "    moe_intermediate_size=2048\n",
    "    \n",
    "    \n",
    "    num_heads  = 128\n",
    "    q_lora_rank = 1536\n",
    "    qk_nope_head_dim = 128\n",
    "    qk_rope_head_dim = 64\n",
    "    kv_lora_rank = 512\n",
    "    v_head_dim=128\n",
    "    \n",
    "    n_shared_experts=1\n",
    "    \n",
    "    vocab_size = 129280\n",
    "    \n",
    "    gate_size = n_routed_experts * hidden_size\n",
    "    \n",
    "    mlp_weights = 3 * hidden_size * intermediate_size\n",
    "    moe_mlp_weights = 3 * hidden_size * moe_intermediate_size\n",
    "    \n",
    "    moe_total_weight = n_routed_experts * moe_mlp_weights\n",
    "    moe_active_weight = num_experts_per_tok * moe_mlp_weights\n",
    "    \n",
    "    q_head_dim = qk_nope_head_dim + qk_rope_head_dim\n",
    "    q_a_proj = hidden_size * q_lora_rank + q_lora_rank * q_head_dim\n",
    "    kv_a_proj_with_mqa = hidden_size * (kv_lora_rank  + qk_rope_head_dim) + kv_lora_rank * (num_heads * (q_head_dim - qk_rope_head_dim  + v_head_dim))\n",
    "    o_proj_weight = num_heads * v_head_dim * hidden_size\n",
    "    attention_weight = q_a_proj + 2 * kv_a_proj_with_mqa + o_proj_weight\n",
    "    \n",
    "    base_weight_per_moe_layer = attention_weight + n_shared_experts * moe_mlp_weights + gate_size\n",
    "    base_weight_per_mlp_layer = attention_weight + mlp_weights\n",
    "    \n",
    "    base_model_weight = base_weight_per_moe_layer * num_moe_layer + base_weight_per_mlp_layer * first_k_dense_replace + 2 * vocab_size * hidden_size\n",
    "    \n",
    "    total_expert_weight = moe_total_weight * num_moe_layer\n",
    "    active_expert_weight = moe_active_weight * num_moe_layer\n",
    "    \n",
    "    active_model_weight = active_expert_weight + num_moe_layer + base_model_weight\n",
    "    total_model_weight = total_expert_weight + num_moe_layer + base_model_weight\n",
    "    \n",
    "    print(f\"{n_routed_experts} @ {num_experts_per_tok} => {int(round(total_model_weight/1e9,0))}B @ {int(round(active_model_weight/1e9,0))}B parameters\")"
   ]
  },
  {
   "cell_type": "code",
   "execution_count": 2,
   "id": "5796530c-8061-4803-a7a2-077cac75ed0d",
   "metadata": {},
   "outputs": [
    {
     "name": "stdout",
     "output_type": "stream",
     "text": [
      "256 @ 8 => 670B @ 37B parameters\n"
     ]
    }
   ],
   "source": [
    "n_routed_experts=256\n",
    "num_experts_per_tok=8\n",
    "calc_num_parameters(n_routed_experts, num_experts_per_tok)"
   ]
  },
  {
   "cell_type": "code",
   "execution_count": 3,
   "id": "3a54c46a-bbdb-4048-b616-d17e8c86b821",
   "metadata": {},
   "outputs": [
    {
     "name": "stdout",
     "output_type": "stream",
     "text": [
      "32 @ 8 => 98B @ 36B parameters\n",
      "22 @ 6 => 72B @ 31B parameters\n",
      "16 @ 4 => 57B @ 26B parameters\n",
      "8 @ 2 => 36B @ 21B parameters\n",
      "4 @ 1 => 26B @ 19B parameters\n"
     ]
    }
   ],
   "source": [
    "p = [\n",
    "    (32, 8),\n",
    "    (22, 6),\n",
    "    (16, 4),\n",
    "    (8, 2),\n",
    "    (4, 1),\n",
    "]\n",
    "\n",
    "for elt in p:\n",
    "    calc_num_parameters(*elt)"
   ]
  },
  {
   "cell_type": "markdown",
   "id": "5d69d425-c1fb-4289-b6e9-556e43edaae0",
   "metadata": {},
   "source": [
    "## Imports"
   ]
  },
  {
   "cell_type": "code",
   "execution_count": 4,
   "id": "11abf472-db10-4106-9224-1ead46911ba9",
   "metadata": {},
   "outputs": [],
   "source": [
    "%load_ext autoreload\n",
    "%autoreload 2\n",
    "\n",
    "import torch\n",
    "from accelerate import init_empty_weights\n",
    "from accelerate.utils import load_offloaded_weight\n",
    "import json\n",
    "from accelerate import load_checkpoint_in_model, dispatch_model\n",
    "from datasets import load_dataset\n",
    "import numpy as np\n",
    "import gc\n",
    "import _pickle as pickle\n",
    "import os\n",
    "# from Distiller import MOEDistiller, count_parameters\n",
    "\n",
    "from transformers import BitsAndBytesConfig\n",
    "from transformers import AutoTokenizer, AutoModelForCausalLM, GenerationConfig, AutoConfig\n",
    "\n",
    "import torch\n",
    "\n",
    "from memory_utils import load_module_weights_and_freeze_optimized, load_weight_cached, destruct_module_optimized\n",
    "from Distiller import load_model_config,create_empty_model,create_empty_layer, create_empty_layer_fp8\n",
    "\n",
    "from liger_kernel.transformers import apply_liger_kernel_to_llama\n",
    "\n",
    "from copy import deepcopy\n",
    "from Distiller import MOEDistillerV3\n",
    "import os\n",
    "from torch.utils.tensorboard import SummaryWriter\n",
    "from tqdm.auto import tqdm\n",
    "import torch\n",
    "import pickle\n",
    "from pathlib import Path\n",
    "\n",
    "\n",
    "import os\n",
    "from modeling_deepseek import _prepare_4d_causal_attention_mask\n",
    "import bitsandbytes as bnb\n",
    "\n",
    "base_path = '/home/golympie/data/'\n",
    "PICKLE_DIR = \"intermediate_states\"\n",
    "\n",
    "# Create directory for pickle files\n",
    "os.makedirs(PICKLE_DIR, exist_ok=True)\n",
    "\n",
    "# # ## Load\n",
    "weight_map, config = load_model_config(\"deepseek_v3\")\n",
    "weight_file = weight_map['model.embed_tokens.weight']\n",
    "\n",
    "\n",
    "apply_liger_kernel_to_llama()\n",
    "\n",
    "model_name = \"DeepSeek-V3\"\n",
    "offload_folder = model_name+'_offload/'\n",
    "output_directory = model_name+'_runner_output/'\n",
    "\n",
    "tokenizer = AutoTokenizer.from_pretrained(\"deepseek-ai/DeepSeek-V3\", trust_remote_code=True)\n",
    "\n",
    "def memory_cleanup():\n",
    "    \"\"\"Perform thorough memory cleanup\"\"\"\n",
    "    gc.collect()\n",
    "    torch.cuda.empty_cache()\n",
    "    if torch.cuda.is_available():\n",
    "        torch.cuda.synchronize()\n"
   ]
  },
  {
   "cell_type": "markdown",
   "id": "1d6c541d-9c4a-4986-a90f-b787f7d614ef",
   "metadata": {
    "scrolled": true
   },
   "source": [
    "## Create dataset"
   ]
  },
  {
   "cell_type": "markdown",
   "id": "e402ac6c-0857-454c-806e-d9ce529834e2",
   "metadata": {},
   "source": [
    "The dataset is a small selection of the excellent dolphin r1 dataset because it contains both non reasoning and reasoning sample.\n",
    "\n",
    "Feel free to change the dataset or to scale the approach as you feel (will take longer but with better result)"
   ]
  },
  {
   "cell_type": "code",
   "execution_count": 5,
   "id": "ded31e33-a951-4ad3-a687-58336594c58c",
   "metadata": {},
   "outputs": [],
   "source": [
    "import os\n",
    "import torch\n",
    "import pickle\n",
    "from tqdm.auto import tqdm\n",
    "from torch.utils.tensorboard import SummaryWriter\n",
    "from dataclasses import dataclass\n",
    "from transformers import AutoTokenizer\n",
    "from typing import Optional, List\n",
    "\n",
    "from Distiller import DistillationConfig\n",
    "\n",
    "@dataclass\n",
    "class PathConfig:\n",
    "    model_name: str = \"deepseek\"\n",
    "    base_dir: str = \"distillation_runs\"\n",
    "    checkpoint_dir: str = \"layers\"\n",
    "    intermediate_dir: str = \"intermediate_states\"\n",
    "    exp_states:str =\"exp_states\"\n",
    "    log_dir: str = \"distillation_logs\"\n",
    "    \n",
    "    def __post_init__(self):\n",
    "        # Create all necessary directories\n",
    "        for dir_name in [self.base_dir, self.log_dir, self.intermediate_dir]:\n",
    "            os.makedirs(dir_name, exist_ok=True)\n",
    "            \n",
    "    def get_layer_path(self, layer_idx: int) -> str:\n",
    "        return os.path.join(self.checkpoint_dir, f\"layer_{layer_idx}.ckpt\")\n",
    "    \n",
    "    def get_intermediate_path(self, layer_idx: int, batch_idx: int) -> str:\n",
    "        os.makedirs(os.path.join(self.intermediate_dir, f\"layer_{layer_idx}\"), exist_ok=True)\n",
    "        return os.path.join(self.intermediate_dir, f\"layer_{layer_idx}\",f\"batch{batch_idx}.pt\")\n",
    "\n",
    "    def get_exp_path(self, layer_idx: int, batch_idx: int) -> str:\n",
    "        os.makedirs(os.path.join(self.exp_states, f\"layer_{layer_idx}\"), exist_ok=True)\n",
    "        return os.path.join(self.exp_states, f\"layer_{layer_idx}\",f\"batch{batch_idx}.pt\")\n",
    "    \n",
    "    def get_distillation_path(self, n_experts: int, n_active: int) -> str:\n",
    "        return os.path.join(self.base_dir, f\"{self.model_name}_{n_experts}@{n_active}\")\n",
    "\n",
    "def save_intermediate_state(path_config: PathConfig, layer_idx: int, batch_idx: int, state: torch.Tensor):\n",
    "    \"\"\"Save intermediate layer output to a file in FP8 format\"\"\"\n",
    "    # Downcast to torch.float8_e4m3fn\n",
    "    fp8_tensor = state.to(torch.float8_e4m3fn)\n",
    "    torch.save(fp8_tensor, path_config.get_intermediate_path(layer_idx, batch_idx))\n",
    "\n",
    "def save_exp_state(path_config: PathConfig, layer_idx: int, batch_idx: int, state: torch.Tensor):\n",
    "    \"\"\"Save intermediate layer output to a file in FP8 format\"\"\"\n",
    "    # Downcast to torch.float8_e4m3fn\n",
    "    fp8_tensor = state.to(torch.float8_e4m3fn)\n",
    "    torch.save(fp8_tensor, path_config.get_exp_path(layer_idx, batch_idx))\n",
    "\n",
    "def load_intermediate_state(path_config: PathConfig, layer_idx: int, batch_idx: int) -> torch.Tensor:\n",
    "    \"\"\"Load intermediate layer output from a file and upcast from FP8\"\"\"\n",
    "    fp8_tensor = torch.load(path_config.get_intermediate_path(layer_idx, batch_idx))\n",
    "    # Upcast to torch.bfloat16\n",
    "    return fp8_tensor.to(torch.bfloat16)\n",
    "\n",
    "@dataclass\n",
    "class DistillationParams:\n",
    "    n_batch: int = 128\n",
    "    batch_size: int = 16\n",
    "    max_length: int = 512\n",
    "    n_epoch: int = 1\n",
    "    gradient_accumulation_steps: int = 1\n",
    "    calibration_batches: int = 16\n",
    "    learning_rate: float = 8e-4\n",
    "    end_factor: float = 0.1\n",
    "    temperature: float = 1.0\n",
    "    lora_type: str = \"dora\"\n",
    "    lora_rank: int = 16\n",
    "    lora_alpha: int = 16\n",
    "    max_workers: int = 16\n",
    "    fp8_format: str = \"e4m3\"\n",
    "    distiller_device: str = \"cuda:1\""
   ]
  },
  {
   "cell_type": "code",
   "execution_count": 6,
   "id": "598baa9f-5a41-4a33-a02f-fcea09e31515",
   "metadata": {
    "scrolled": true
   },
   "outputs": [],
   "source": [
    "# MoE configurations\n",
    "MOE_CONFIGS = [\n",
    "    # (32, 8),\n",
    "    # (22, 6),\n",
    "    # (16, 4),\n",
    "    # (8, 2),\n",
    "    # (4, 1),\n",
    "]\n",
    "\n",
    "params = DistillationParams()\n",
    "path_config = PathConfig()\n",
    "\n",
    "n_sample=params.batch_size * params.n_batch\n",
    "\n",
    "gradient_accumulation_steps=1\n",
    "\n",
    "position_ids = torch.arange(\n",
    "    0,\n",
    "    params.max_length,\n",
    "    dtype=torch.long,\n",
    "    device=\"cuda\",\n",
    ").unsqueeze(0)\n"
   ]
  },
  {
   "cell_type": "markdown",
   "id": "dd12cd68-4603-48f0-b01f-7798413915af",
   "metadata": {},
   "source": [
    "## Distill layers one by one"
   ]
  },
  {
   "cell_type": "markdown",
   "id": "3a78bb18-46f2-453a-b4cc-bf7507b25978",
   "metadata": {},
   "source": [
    "Now the hard work, loading layers one by one to the GPUs and distill them.\n",
    "\n",
    "Note that a full layer in fp8 should take about 14 go vram during inference with batch size 2.\n",
    "The distiller makes a repartition of the pruned experts on remaining space. With the default config of this notebook, the first distillat is on cuda:0 and the other are in cuda 1.\n",
    "\n",
    "To make it work properly I had to make a custom implementation of FP8Linear layer, optimized for numerical stability, as the default bnb one was producing Nan outputs very frequently. The current implementation is a bit naive, and could probably be improved with custom triton kernels.\n",
    "\n",
    "The new layer was required as i am running the pipeline on Ampere GPU, and Deepseek released kernels can only work with Ada lovelace and plus generations.\n",
    "\n",
    "The logic is hardcoded in the Distiller file, and will need to be updated.\n",
    "\n",
    "With the current config, expect peak total vram usage of about 46 go. The pipeline should take about 24 hour on my setup to run, with a large part dedicated to disk write / read operations and quantization optimisations. If you have a larger vram, you can probably speed it up a bit :)"
   ]
  },
  {
   "cell_type": "code",
   "execution_count": 7,
   "id": "2ab8abae-b3a3-4ca1-9d6a-3a8671789455",
   "metadata": {
    "scrolled": true
   },
   "outputs": [
    {
     "data": {
      "application/vnd.jupyter.widget-view+json": {
       "model_id": "8da46dbbd181457ca096b295036b17a2",
       "version_major": 2,
       "version_minor": 0
      },
      "text/plain": [
       "  0%|          | 0/2048 [00:00<?, ?it/s]"
      ]
     },
     "metadata": {},
     "output_type": "display_data"
    },
    {
     "data": {
      "application/vnd.jupyter.widget-view+json": {
       "model_id": "afa81d32b45c413ebf2727ca2965a5f8",
       "version_major": 2,
       "version_minor": 0
      },
      "text/plain": [
       "Processing embeddings:   0%|          | 0/128 [00:00<?, ?it/s]"
      ]
     },
     "metadata": {},
     "output_type": "display_data"
    }
   ],
   "source": [
    "# # Define your configuration and batch size\n",
    "device = \"cuda\"  # Specify the device\n",
    "\n",
    "calibration = load_dataset(\n",
    "    'cognitivecomputations/dolphin-r1',\n",
    "    \"nonreasoning\",\n",
    "    cache_dir=\"../dolphin-r1\"\n",
    ")\n",
    "\n",
    "calibration = calibration['train']\n",
    "\n",
    "def filter_function(example):\n",
    "    if example['overall_quality'] is not None:\n",
    "        if example['overall_quality'] == 5:\n",
    "            return True\n",
    "    if example['score'] is not None:\n",
    "        if example['score'] >= 0.2:\n",
    "            return True\n",
    "    return False\n",
    "\n",
    "\n",
    "calibration = calibration.filter(filter_function)\n",
    "\n",
    "\n",
    "data=calibration['messages'][:n_sample]\n",
    "train_dataset = [tokenizer.apply_chat_template(elt, tokenize=False, add_generation_prompt=False) for elt in tqdm(data)]\n",
    "\n",
    "# Initialize embedding layer (moved outside the loop)\n",
    "embed_tokens = torch.nn.Embedding(\n",
    "    config.vocab_size,\n",
    "    config.hidden_size,\n",
    "    config.pad_token_id,\n",
    "    device=device\n",
    ")\n",
    "\n",
    "embed_tokens.weight.requires_grad = False\n",
    "embed_tokens.load_state_dict(torch.load(\"layers/embed_tokens.pt\"))\n",
    "embed_tokens.to(device) # move the embedding layer to cuda device\n",
    "\n",
    "# Process each batch\n",
    "all_embeddings = []\n",
    "\n",
    "for batch_idx in tqdm(range(params.n_batch), desc=\"Processing embeddings\"):\n",
    "    # Tokenize the concatenated batch\n",
    "    batch=train_dataset[params.batch_size * batch_idx:params.batch_size * (batch_idx+1)]\n",
    "    \n",
    "    inputs = tokenizer(\n",
    "        batch,\n",
    "        max_length=params.max_length,\n",
    "        padding=\"max_length\",\n",
    "        truncation=True,\n",
    "        return_tensors='pt'\n",
    "    ).to(device)\n",
    "\n",
    "    # Compute embeddings for accumulated batch\n",
    "    with torch.no_grad():\n",
    "        embeddings = embed_tokens(inputs['input_ids']).to('cpu', dtype=torch.bfloat16)\n",
    "    # Split back into original batch sizes and save\n",
    "        \n",
    "    save_intermediate_state(path_config, -1, batch_idx, embeddings)\n",
    "\n",
    "# Cleanup\n",
    "destruct_module_optimized(embed_tokens)\n",
    "memory_cleanup()"
   ]
  },
  {
   "cell_type": "code",
   "execution_count": null,
   "id": "81916cb9-d64d-45e1-a5fb-3d1b87da9853",
   "metadata": {},
   "outputs": [
    {
     "name": "stdout",
     "output_type": "stream",
     "text": [
      "Loading layer 0\n",
      "layer loaded\n"
     ]
    },
    {
     "data": {
      "application/vnd.jupyter.widget-view+json": {
       "model_id": "1bad143dfd164de9baefb7fb859c033f",
       "version_major": 2,
       "version_minor": 0
      },
      "text/plain": [
       "Processing MLP Layer 0:   0%|          | 0/128 [00:00<?, ?it/s]"
      ]
     },
     "metadata": {},
     "output_type": "display_data"
    },
    {
     "name": "stdout",
     "output_type": "stream",
     "text": [
      "Loading layer 1\n",
      "layer loaded\n"
     ]
    },
    {
     "data": {
      "application/vnd.jupyter.widget-view+json": {
       "model_id": "1c0c46667bd7437cbe66b00c5b339b6b",
       "version_major": 2,
       "version_minor": 0
      },
      "text/plain": [
       "Processing MLP Layer 1:   0%|          | 0/128 [00:00<?, ?it/s]"
      ]
     },
     "metadata": {},
     "output_type": "display_data"
    }
   ],
   "source": [
    "# Initialize tensorboard writer\n",
    "writer = SummaryWriter(path_config.log_dir)\n",
    "# Create distillation configs for each MoE configuration\n",
    "\n",
    "\n",
    "# Process each layer\n",
    "for layer_idx in range(61):\n",
    "    # Create and load layer\n",
    "    print(f'Loading layer {layer_idx}')\n",
    "    memory_cleanup()\n",
    "    layer = create_empty_layer_fp8(config, layer_idx=layer_idx)\n",
    "    memory_cleanup()\n",
    "    layer.load_state_dict(torch.load(f'layers/layer_{layer_idx}.pt'), assign=True)\n",
    "    print('layer loaded')\n",
    "    memory_cleanup()\n",
    "\n",
    "    \n",
    "    if \"DeepseekV3MLP\" in str(layer.mlp.__class__):\n",
    "        # Process standard MLP layer\n",
    "        for batch_idx in tqdm(range(params.n_batch), desc=f\"Processing MLP Layer {layer_idx}\"):\n",
    "            \n",
    "            prev_state = load_intermediate_state(path_config, layer_idx-1, batch_idx)\n",
    "\n",
    "            with torch.no_grad():\n",
    "                with torch.amp.autocast('cuda'):\n",
    "                    new_state = layer.forward(\n",
    "                        hidden_states=prev_state.to('cuda:0'),\n",
    "                        position_ids=position_ids,\n",
    "                    )[0].detach()\n",
    "                \n",
    "            save_intermediate_state(path_config, layer_idx, batch_idx, new_state)\n",
    "            \n",
    "            if batch_idx % 100 == 0:\n",
    "                memory_cleanup()\n",
    "                \n",
    "        destruct_module_optimized(layer)\n",
    "        memory_cleanup()\n",
    "        \n",
    "    else:\n",
    "        # Process MoE layer\n",
    "        distiller = MOEDistillerV3(layer, layer_idx, model_name=path_config.model_name)\n",
    "        \n",
    "        # Prepare calibration data\n",
    "        calibration_batches = [\n",
    "            load_intermediate_state(path_config, layer_idx-1, idx).to('cuda:0', dtype=torch.bfloat16)\n",
    "            for idx in range(min(params.calibration_batches, params.n_batch))\n",
    "        ]\n",
    "        \n",
    "        # Create output directories for each MoE configuration\n",
    "        for n_experts, n_active in MOE_CONFIGS:\n",
    "            os.makedirs(path_config.get_distillation_path(n_experts, n_active), exist_ok=True)\n",
    "        \n",
    "        # Calibrate distiller\n",
    "        distiller.calibrate(\n",
    "            calibration_batches,\n",
    "            position_ids,\n",
    "            MOE_CONFIGS,\n",
    "            params\n",
    "        )\n",
    "        \n",
    "        memory_cleanup()\n",
    "        \n",
    "        # Training loop\n",
    "        progress_bar = tqdm(range(params.n_batch), desc=f\"Training Layer {layer_idx}\")\n",
    "        for batch_idx in progress_bar:\n",
    "            prev_state = load_intermediate_state(\n",
    "                path_config, \n",
    "                layer_idx-1, \n",
    "                batch_idx % params.n_epoch,\n",
    "            )\n",
    "            \n",
    "            new_state, losses, exp_states = distiller.step(\n",
    "                prev_state.to('cuda:0', dtype=torch.bfloat16),\n",
    "                attention_mask=None,\n",
    "                position_ids=position_ids,\n",
    "            )\n",
    "            \n",
    "            save_intermediate_state(path_config, layer_idx, batch_idx, new_state)\n",
    "            save_exp_state(path_config, layer_idx, batch_idx, exp_states)\n",
    "\n",
    "            del new_state\n",
    "            del exp_states\n",
    "            memory_cleanup()\n",
    "            # Log losses\n",
    "            for loss_name, loss_value in losses.items():\n",
    "                writer.add_scalar(\n",
    "                    f\"layer_{layer_idx}/{loss_name}\",\n",
    "                    loss_value,\n",
    "                    batch_idx\n",
    "                )\n",
    "            \n",
    "            progress_bar.set_postfix(**losses)\n",
    "            memory_cleanup()\n",
    "        \n",
    "        # Save and cleanup\n",
    "        distiller.save_distillats()\n",
    "        \n",
    "        destruct_module_optimized(layer)\n",
    "        for distillat in distiller.distillats:\n",
    "            destruct_module_optimized(distillat[\"moe\"])\n",
    "            del distillat['optimizer']\n",
    "            del distillat['scheduler']\n",
    "            del distillat['criterion']\n",
    "        del distiller\n",
    "        memory_cleanup()\n",
    "\n",
    "writer.close()"
   ]
  },
  {
   "cell_type": "code",
   "execution_count": null,
   "id": "fafcc99c-7245-4add-a9cc-3500be9c10bc",
   "metadata": {},
   "outputs": [],
   "source": []
  },
  {
   "cell_type": "code",
   "execution_count": null,
   "id": "7433187e-7519-432f-9168-315296e07b26",
   "metadata": {},
   "outputs": [],
   "source": []
  },
  {
   "cell_type": "code",
   "execution_count": null,
   "id": "196132f4-9892-4085-a6b3-c987b9694361",
   "metadata": {},
   "outputs": [],
   "source": []
  },
  {
   "cell_type": "code",
   "execution_count": null,
   "id": "bbfb0eb1-9001-4dca-9e06-f605b4f76703",
   "metadata": {},
   "outputs": [],
   "source": []
  },
  {
   "cell_type": "code",
   "execution_count": null,
   "id": "58b13862-e1ee-41a2-bca9-91f5202b23f0",
   "metadata": {},
   "outputs": [],
   "source": []
  },
  {
   "cell_type": "code",
   "execution_count": null,
   "id": "b75387f1-8152-4d97-b2a2-75fb2c386a6f",
   "metadata": {},
   "outputs": [],
   "source": []
  },
  {
   "cell_type": "code",
   "execution_count": null,
   "id": "6c821b0d-30a6-4bfb-bac2-8c86c7b753c9",
   "metadata": {},
   "outputs": [],
   "source": []
  },
  {
   "cell_type": "code",
   "execution_count": null,
   "id": "96199eda-3358-4d5c-affe-183cbc540683",
   "metadata": {},
   "outputs": [],
   "source": []
  },
  {
   "cell_type": "code",
   "execution_count": null,
   "id": "d2af44eb-553e-47a9-a611-c544e1cb7448",
   "metadata": {},
   "outputs": [],
   "source": []
  },
  {
   "cell_type": "code",
   "execution_count": null,
   "id": "fea68be7-c03d-4f1c-b885-a79301b94c9d",
   "metadata": {},
   "outputs": [],
   "source": []
  }
 ],
 "metadata": {
  "kernelspec": {
   "display_name": "Python 3 (ipykernel)",
   "language": "python",
   "name": "python3"
  },
  "language_info": {
   "codemirror_mode": {
    "name": "ipython",
    "version": 3
   },
   "file_extension": ".py",
   "mimetype": "text/x-python",
   "name": "python",
   "nbconvert_exporter": "python",
   "pygments_lexer": "ipython3",
   "version": "3.11.9"
  }
 },
 "nbformat": 4,
 "nbformat_minor": 5
}
